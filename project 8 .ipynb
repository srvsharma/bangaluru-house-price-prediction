{
 "cells": [
  {
   "cell_type": "markdown",
   "id": "6493ad04",
   "metadata": {},
   "source": [
    "# Import important libraries"
   ]
  },
  {
   "cell_type": "code",
   "execution_count": 1,
   "id": "49089bfc",
   "metadata": {},
   "outputs": [],
   "source": [
    "import numpy as np\n",
    "import pandas as pd\n",
    "import matplotlib.pyplot as plt\n",
    "import seaborn as sns\n",
    "%matplotlib inline\n",
    "import warnings\n",
    "warnings.filterwarnings('ignore')"
   ]
  },
  {
   "cell_type": "markdown",
   "id": "a8a9f7e6",
   "metadata": {},
   "source": [
    "# Load the Dataset"
   ]
  },
  {
   "cell_type": "code",
   "execution_count": 2,
   "id": "3d428296",
   "metadata": {
    "scrolled": true
   },
   "outputs": [
    {
     "data": {
      "text/html": [
       "<div>\n",
       "<style scoped>\n",
       "    .dataframe tbody tr th:only-of-type {\n",
       "        vertical-align: middle;\n",
       "    }\n",
       "\n",
       "    .dataframe tbody tr th {\n",
       "        vertical-align: top;\n",
       "    }\n",
       "\n",
       "    .dataframe thead th {\n",
       "        text-align: right;\n",
       "    }\n",
       "</style>\n",
       "<table border=\"1\" class=\"dataframe\">\n",
       "  <thead>\n",
       "    <tr style=\"text-align: right;\">\n",
       "      <th></th>\n",
       "      <th>area_type</th>\n",
       "      <th>availability</th>\n",
       "      <th>location</th>\n",
       "      <th>size</th>\n",
       "      <th>society</th>\n",
       "      <th>total_sqft</th>\n",
       "      <th>bath</th>\n",
       "      <th>balcony</th>\n",
       "      <th>price</th>\n",
       "      <th>Unnamed: 9</th>\n",
       "      <th>Unnamed: 10</th>\n",
       "      <th>Unnamed: 11</th>\n",
       "      <th>Unnamed: 12</th>\n",
       "    </tr>\n",
       "  </thead>\n",
       "  <tbody>\n",
       "    <tr>\n",
       "      <th>0</th>\n",
       "      <td>Super built-up  Area</td>\n",
       "      <td>19-Dec</td>\n",
       "      <td>Electronic City Phase II</td>\n",
       "      <td>2 BHK</td>\n",
       "      <td>Coomee</td>\n",
       "      <td>1056</td>\n",
       "      <td>2.0</td>\n",
       "      <td>1.0</td>\n",
       "      <td>$39.07</td>\n",
       "      <td>NaN</td>\n",
       "      <td>NaN</td>\n",
       "      <td>NaN</td>\n",
       "      <td>NaN</td>\n",
       "    </tr>\n",
       "    <tr>\n",
       "      <th>1</th>\n",
       "      <td>Plot  Area</td>\n",
       "      <td>Ready To Move</td>\n",
       "      <td>Chikka Tirupathi</td>\n",
       "      <td>4 Bedroom</td>\n",
       "      <td>Theanmp</td>\n",
       "      <td>2600</td>\n",
       "      <td>5.0</td>\n",
       "      <td>3.0</td>\n",
       "      <td>$120.00</td>\n",
       "      <td>NaN</td>\n",
       "      <td>NaN</td>\n",
       "      <td>NaN</td>\n",
       "      <td>NaN</td>\n",
       "    </tr>\n",
       "    <tr>\n",
       "      <th>2</th>\n",
       "      <td>Built-up  Area</td>\n",
       "      <td>Ready To Move</td>\n",
       "      <td>Uttarahalli</td>\n",
       "      <td>3 BHK</td>\n",
       "      <td>NaN</td>\n",
       "      <td>1440</td>\n",
       "      <td>2.0</td>\n",
       "      <td>3.0</td>\n",
       "      <td>$62.00</td>\n",
       "      <td>NaN</td>\n",
       "      <td>NaN</td>\n",
       "      <td>NaN</td>\n",
       "      <td>NaN</td>\n",
       "    </tr>\n",
       "    <tr>\n",
       "      <th>3</th>\n",
       "      <td>Super built-up  Area</td>\n",
       "      <td>Ready To Move</td>\n",
       "      <td>Lingadheeranahalli</td>\n",
       "      <td>3 BHK</td>\n",
       "      <td>Soiewre</td>\n",
       "      <td>1521</td>\n",
       "      <td>3.0</td>\n",
       "      <td>1.0</td>\n",
       "      <td>$95.00</td>\n",
       "      <td>NaN</td>\n",
       "      <td>NaN</td>\n",
       "      <td>NaN</td>\n",
       "      <td>NaN</td>\n",
       "    </tr>\n",
       "    <tr>\n",
       "      <th>4</th>\n",
       "      <td>Super built-up  Area</td>\n",
       "      <td>Ready To Move</td>\n",
       "      <td>Kothanur</td>\n",
       "      <td>2 BHK</td>\n",
       "      <td>NaN</td>\n",
       "      <td>1200</td>\n",
       "      <td>2.0</td>\n",
       "      <td>1.0</td>\n",
       "      <td>$51.00</td>\n",
       "      <td>NaN</td>\n",
       "      <td>NaN</td>\n",
       "      <td>NaN</td>\n",
       "      <td>NaN</td>\n",
       "    </tr>\n",
       "  </tbody>\n",
       "</table>\n",
       "</div>"
      ],
      "text/plain": [
       "              area_type   availability                  location       size  \\\n",
       "0  Super built-up  Area         19-Dec  Electronic City Phase II      2 BHK   \n",
       "1            Plot  Area  Ready To Move          Chikka Tirupathi  4 Bedroom   \n",
       "2        Built-up  Area  Ready To Move               Uttarahalli      3 BHK   \n",
       "3  Super built-up  Area  Ready To Move        Lingadheeranahalli      3 BHK   \n",
       "4  Super built-up  Area  Ready To Move                  Kothanur      2 BHK   \n",
       "\n",
       "   society total_sqft  bath  balcony      price  Unnamed: 9  Unnamed: 10  \\\n",
       "0  Coomee        1056   2.0      1.0    $39.07          NaN          NaN   \n",
       "1  Theanmp       2600   5.0      3.0   $120.00          NaN          NaN   \n",
       "2      NaN       1440   2.0      3.0    $62.00          NaN          NaN   \n",
       "3  Soiewre       1521   3.0      1.0    $95.00          NaN          NaN   \n",
       "4      NaN       1200   2.0      1.0    $51.00          NaN          NaN   \n",
       "\n",
       "   Unnamed: 11  Unnamed: 12  \n",
       "0          NaN          NaN  \n",
       "1          NaN          NaN  \n",
       "2          NaN          NaN  \n",
       "3          NaN          NaN  \n",
       "4          NaN          NaN  "
      ]
     },
     "execution_count": 2,
     "metadata": {},
     "output_type": "execute_result"
    }
   ],
   "source": [
    "df = pd.read_csv(\"Bengaluru_House_Data.csv\", encoding='latin-1')\n",
    "\n",
    "\n",
    "df.head()"
   ]
  },
  {
   "cell_type": "code",
   "execution_count": 3,
   "id": "72bf7622",
   "metadata": {
    "scrolled": true
   },
   "outputs": [
    {
     "data": {
      "text/html": [
       "<div>\n",
       "<style scoped>\n",
       "    .dataframe tbody tr th:only-of-type {\n",
       "        vertical-align: middle;\n",
       "    }\n",
       "\n",
       "    .dataframe tbody tr th {\n",
       "        vertical-align: top;\n",
       "    }\n",
       "\n",
       "    .dataframe thead th {\n",
       "        text-align: right;\n",
       "    }\n",
       "</style>\n",
       "<table border=\"1\" class=\"dataframe\">\n",
       "  <thead>\n",
       "    <tr style=\"text-align: right;\">\n",
       "      <th></th>\n",
       "      <th>area_type</th>\n",
       "      <th>availability</th>\n",
       "      <th>location</th>\n",
       "      <th>size</th>\n",
       "      <th>society</th>\n",
       "      <th>total_sqft</th>\n",
       "      <th>bath</th>\n",
       "      <th>balcony</th>\n",
       "      <th>price</th>\n",
       "      <th>Unnamed: 9</th>\n",
       "      <th>Unnamed: 10</th>\n",
       "      <th>Unnamed: 11</th>\n",
       "      <th>Unnamed: 12</th>\n",
       "    </tr>\n",
       "  </thead>\n",
       "  <tbody>\n",
       "    <tr>\n",
       "      <th>13315</th>\n",
       "      <td>Built-up  Area</td>\n",
       "      <td>Ready To Move</td>\n",
       "      <td>Whitefield</td>\n",
       "      <td>5 Bedroom</td>\n",
       "      <td>ArsiaEx</td>\n",
       "      <td>3453</td>\n",
       "      <td>4.0</td>\n",
       "      <td>0.0</td>\n",
       "      <td>231</td>\n",
       "      <td>NaN</td>\n",
       "      <td>NaN</td>\n",
       "      <td>NaN</td>\n",
       "      <td>NaN</td>\n",
       "    </tr>\n",
       "    <tr>\n",
       "      <th>13316</th>\n",
       "      <td>Super built-up  Area</td>\n",
       "      <td>Ready To Move</td>\n",
       "      <td>Richards Town</td>\n",
       "      <td>4 BHK</td>\n",
       "      <td>NaN</td>\n",
       "      <td>3600</td>\n",
       "      <td>5.0</td>\n",
       "      <td>NaN</td>\n",
       "      <td>400</td>\n",
       "      <td>NaN</td>\n",
       "      <td>NaN</td>\n",
       "      <td>NaN</td>\n",
       "      <td>NaN</td>\n",
       "    </tr>\n",
       "    <tr>\n",
       "      <th>13317</th>\n",
       "      <td>Built-up  Area</td>\n",
       "      <td>Ready To Move</td>\n",
       "      <td>Raja Rajeshwari Nagar</td>\n",
       "      <td>2 BHK</td>\n",
       "      <td>Mahla T</td>\n",
       "      <td>1141</td>\n",
       "      <td>2.0</td>\n",
       "      <td>1.0</td>\n",
       "      <td>60</td>\n",
       "      <td>NaN</td>\n",
       "      <td>NaN</td>\n",
       "      <td>NaN</td>\n",
       "      <td>NaN</td>\n",
       "    </tr>\n",
       "    <tr>\n",
       "      <th>13318</th>\n",
       "      <td>Super built-up  Area</td>\n",
       "      <td>18-Jun</td>\n",
       "      <td>Padmanabhanagar</td>\n",
       "      <td>4 BHK</td>\n",
       "      <td>SollyCl</td>\n",
       "      <td>4689</td>\n",
       "      <td>4.0</td>\n",
       "      <td>1.0</td>\n",
       "      <td>488</td>\n",
       "      <td>NaN</td>\n",
       "      <td>NaN</td>\n",
       "      <td>NaN</td>\n",
       "      <td>NaN</td>\n",
       "    </tr>\n",
       "    <tr>\n",
       "      <th>13319</th>\n",
       "      <td>Super built-up  Area</td>\n",
       "      <td>Ready To Move</td>\n",
       "      <td>Doddathoguru</td>\n",
       "      <td>1 BHK</td>\n",
       "      <td>NaN</td>\n",
       "      <td>550</td>\n",
       "      <td>1.0</td>\n",
       "      <td>1.0</td>\n",
       "      <td>17</td>\n",
       "      <td>NaN</td>\n",
       "      <td>NaN</td>\n",
       "      <td>NaN</td>\n",
       "      <td>NaN</td>\n",
       "    </tr>\n",
       "  </tbody>\n",
       "</table>\n",
       "</div>"
      ],
      "text/plain": [
       "                  area_type   availability               location       size  \\\n",
       "13315        Built-up  Area  Ready To Move             Whitefield  5 Bedroom   \n",
       "13316  Super built-up  Area  Ready To Move          Richards Town      4 BHK   \n",
       "13317        Built-up  Area  Ready To Move  Raja Rajeshwari Nagar      2 BHK   \n",
       "13318  Super built-up  Area         18-Jun        Padmanabhanagar      4 BHK   \n",
       "13319  Super built-up  Area  Ready To Move           Doddathoguru      1 BHK   \n",
       "\n",
       "       society total_sqft  bath  balcony price  Unnamed: 9  Unnamed: 10  \\\n",
       "13315  ArsiaEx       3453   4.0      0.0   231         NaN          NaN   \n",
       "13316      NaN       3600   5.0      NaN   400         NaN          NaN   \n",
       "13317  Mahla T       1141   2.0      1.0    60         NaN          NaN   \n",
       "13318  SollyCl       4689   4.0      1.0   488         NaN          NaN   \n",
       "13319      NaN        550   1.0      1.0    17         NaN          NaN   \n",
       "\n",
       "       Unnamed: 11  Unnamed: 12  \n",
       "13315          NaN          NaN  \n",
       "13316          NaN          NaN  \n",
       "13317          NaN          NaN  \n",
       "13318          NaN          NaN  \n",
       "13319          NaN          NaN  "
      ]
     },
     "execution_count": 3,
     "metadata": {},
     "output_type": "execute_result"
    }
   ],
   "source": [
    "df.tail()"
   ]
  },
  {
   "cell_type": "markdown",
   "id": "59f9f671",
   "metadata": {},
   "source": [
    "# Drop the last four column as they can only contain NaN values"
   ]
  },
  {
   "cell_type": "code",
   "execution_count": 4,
   "id": "79a0637b",
   "metadata": {},
   "outputs": [],
   "source": [
    "df.drop(['Unnamed: 9', 'Unnamed: 10','Unnamed: 11', 'Unnamed: 12'], axis = 1, inplace = True)"
   ]
  },
  {
   "cell_type": "code",
   "execution_count": 5,
   "id": "98ee0cc0",
   "metadata": {
    "scrolled": false
   },
   "outputs": [
    {
     "data": {
      "text/html": [
       "<div>\n",
       "<style scoped>\n",
       "    .dataframe tbody tr th:only-of-type {\n",
       "        vertical-align: middle;\n",
       "    }\n",
       "\n",
       "    .dataframe tbody tr th {\n",
       "        vertical-align: top;\n",
       "    }\n",
       "\n",
       "    .dataframe thead th {\n",
       "        text-align: right;\n",
       "    }\n",
       "</style>\n",
       "<table border=\"1\" class=\"dataframe\">\n",
       "  <thead>\n",
       "    <tr style=\"text-align: right;\">\n",
       "      <th></th>\n",
       "      <th>area_type</th>\n",
       "      <th>availability</th>\n",
       "      <th>location</th>\n",
       "      <th>size</th>\n",
       "      <th>society</th>\n",
       "      <th>total_sqft</th>\n",
       "      <th>bath</th>\n",
       "      <th>balcony</th>\n",
       "      <th>price</th>\n",
       "    </tr>\n",
       "  </thead>\n",
       "  <tbody>\n",
       "    <tr>\n",
       "      <th>0</th>\n",
       "      <td>Super built-up  Area</td>\n",
       "      <td>19-Dec</td>\n",
       "      <td>Electronic City Phase II</td>\n",
       "      <td>2 BHK</td>\n",
       "      <td>Coomee</td>\n",
       "      <td>1056</td>\n",
       "      <td>2.0</td>\n",
       "      <td>1.0</td>\n",
       "      <td>$39.07</td>\n",
       "    </tr>\n",
       "    <tr>\n",
       "      <th>1</th>\n",
       "      <td>Plot  Area</td>\n",
       "      <td>Ready To Move</td>\n",
       "      <td>Chikka Tirupathi</td>\n",
       "      <td>4 Bedroom</td>\n",
       "      <td>Theanmp</td>\n",
       "      <td>2600</td>\n",
       "      <td>5.0</td>\n",
       "      <td>3.0</td>\n",
       "      <td>$120.00</td>\n",
       "    </tr>\n",
       "    <tr>\n",
       "      <th>2</th>\n",
       "      <td>Built-up  Area</td>\n",
       "      <td>Ready To Move</td>\n",
       "      <td>Uttarahalli</td>\n",
       "      <td>3 BHK</td>\n",
       "      <td>NaN</td>\n",
       "      <td>1440</td>\n",
       "      <td>2.0</td>\n",
       "      <td>3.0</td>\n",
       "      <td>$62.00</td>\n",
       "    </tr>\n",
       "    <tr>\n",
       "      <th>3</th>\n",
       "      <td>Super built-up  Area</td>\n",
       "      <td>Ready To Move</td>\n",
       "      <td>Lingadheeranahalli</td>\n",
       "      <td>3 BHK</td>\n",
       "      <td>Soiewre</td>\n",
       "      <td>1521</td>\n",
       "      <td>3.0</td>\n",
       "      <td>1.0</td>\n",
       "      <td>$95.00</td>\n",
       "    </tr>\n",
       "    <tr>\n",
       "      <th>4</th>\n",
       "      <td>Super built-up  Area</td>\n",
       "      <td>Ready To Move</td>\n",
       "      <td>Kothanur</td>\n",
       "      <td>2 BHK</td>\n",
       "      <td>NaN</td>\n",
       "      <td>1200</td>\n",
       "      <td>2.0</td>\n",
       "      <td>1.0</td>\n",
       "      <td>$51.00</td>\n",
       "    </tr>\n",
       "  </tbody>\n",
       "</table>\n",
       "</div>"
      ],
      "text/plain": [
       "              area_type   availability                  location       size  \\\n",
       "0  Super built-up  Area         19-Dec  Electronic City Phase II      2 BHK   \n",
       "1            Plot  Area  Ready To Move          Chikka Tirupathi  4 Bedroom   \n",
       "2        Built-up  Area  Ready To Move               Uttarahalli      3 BHK   \n",
       "3  Super built-up  Area  Ready To Move        Lingadheeranahalli      3 BHK   \n",
       "4  Super built-up  Area  Ready To Move                  Kothanur      2 BHK   \n",
       "\n",
       "   society total_sqft  bath  balcony      price  \n",
       "0  Coomee        1056   2.0      1.0    $39.07   \n",
       "1  Theanmp       2600   5.0      3.0   $120.00   \n",
       "2      NaN       1440   2.0      3.0    $62.00   \n",
       "3  Soiewre       1521   3.0      1.0    $95.00   \n",
       "4      NaN       1200   2.0      1.0    $51.00   "
      ]
     },
     "execution_count": 5,
     "metadata": {},
     "output_type": "execute_result"
    }
   ],
   "source": [
    "df.head()"
   ]
  },
  {
   "cell_type": "markdown",
   "id": "ed984524",
   "metadata": {},
   "source": [
    "# Exploratory Data Analysis"
   ]
  },
  {
   "cell_type": "markdown",
   "id": "6683f3a3",
   "metadata": {},
   "source": [
    "# DataFrame Information"
   ]
  },
  {
   "cell_type": "code",
   "execution_count": 6,
   "id": "de9ad2c4",
   "metadata": {
    "scrolled": false
   },
   "outputs": [
    {
     "name": "stdout",
     "output_type": "stream",
     "text": [
      "<class 'pandas.core.frame.DataFrame'>\n",
      "RangeIndex: 13320 entries, 0 to 13319\n",
      "Data columns (total 9 columns):\n",
      " #   Column        Non-Null Count  Dtype  \n",
      "---  ------        --------------  -----  \n",
      " 0   area_type     13320 non-null  object \n",
      " 1   availability  13320 non-null  object \n",
      " 2   location      13319 non-null  object \n",
      " 3   size          13304 non-null  object \n",
      " 4   society       7818 non-null   object \n",
      " 5   total_sqft    13320 non-null  object \n",
      " 6   bath          13247 non-null  float64\n",
      " 7   balcony       12711 non-null  float64\n",
      " 8   price         13320 non-null  object \n",
      "dtypes: float64(2), object(7)\n",
      "memory usage: 936.7+ KB\n"
     ]
    }
   ],
   "source": [
    "df.info()"
   ]
  },
  {
   "cell_type": "code",
   "execution_count": 7,
   "id": "f10f46a7",
   "metadata": {},
   "outputs": [
    {
     "data": {
      "text/plain": [
       "(13320, 9)"
      ]
     },
     "execution_count": 7,
     "metadata": {},
     "output_type": "execute_result"
    }
   ],
   "source": [
    "df.shape"
   ]
  },
  {
   "cell_type": "code",
   "execution_count": 8,
   "id": "ec11893b",
   "metadata": {
    "scrolled": false
   },
   "outputs": [
    {
     "data": {
      "text/html": [
       "<div>\n",
       "<style scoped>\n",
       "    .dataframe tbody tr th:only-of-type {\n",
       "        vertical-align: middle;\n",
       "    }\n",
       "\n",
       "    .dataframe tbody tr th {\n",
       "        vertical-align: top;\n",
       "    }\n",
       "\n",
       "    .dataframe thead th {\n",
       "        text-align: right;\n",
       "    }\n",
       "</style>\n",
       "<table border=\"1\" class=\"dataframe\">\n",
       "  <thead>\n",
       "    <tr style=\"text-align: right;\">\n",
       "      <th></th>\n",
       "      <th>bath</th>\n",
       "      <th>balcony</th>\n",
       "    </tr>\n",
       "  </thead>\n",
       "  <tbody>\n",
       "    <tr>\n",
       "      <th>count</th>\n",
       "      <td>13247.000000</td>\n",
       "      <td>12711.000000</td>\n",
       "    </tr>\n",
       "    <tr>\n",
       "      <th>mean</th>\n",
       "      <td>2.692610</td>\n",
       "      <td>1.584376</td>\n",
       "    </tr>\n",
       "    <tr>\n",
       "      <th>std</th>\n",
       "      <td>1.341458</td>\n",
       "      <td>0.817263</td>\n",
       "    </tr>\n",
       "    <tr>\n",
       "      <th>min</th>\n",
       "      <td>1.000000</td>\n",
       "      <td>0.000000</td>\n",
       "    </tr>\n",
       "    <tr>\n",
       "      <th>25%</th>\n",
       "      <td>2.000000</td>\n",
       "      <td>1.000000</td>\n",
       "    </tr>\n",
       "    <tr>\n",
       "      <th>50%</th>\n",
       "      <td>2.000000</td>\n",
       "      <td>2.000000</td>\n",
       "    </tr>\n",
       "    <tr>\n",
       "      <th>75%</th>\n",
       "      <td>3.000000</td>\n",
       "      <td>2.000000</td>\n",
       "    </tr>\n",
       "    <tr>\n",
       "      <th>max</th>\n",
       "      <td>40.000000</td>\n",
       "      <td>3.000000</td>\n",
       "    </tr>\n",
       "  </tbody>\n",
       "</table>\n",
       "</div>"
      ],
      "text/plain": [
       "               bath       balcony\n",
       "count  13247.000000  12711.000000\n",
       "mean       2.692610      1.584376\n",
       "std        1.341458      0.817263\n",
       "min        1.000000      0.000000\n",
       "25%        2.000000      1.000000\n",
       "50%        2.000000      2.000000\n",
       "75%        3.000000      2.000000\n",
       "max       40.000000      3.000000"
      ]
     },
     "execution_count": 8,
     "metadata": {},
     "output_type": "execute_result"
    }
   ],
   "source": [
    "df.describe()"
   ]
  },
  {
   "cell_type": "markdown",
   "id": "0d461f09",
   "metadata": {},
   "source": [
    "from above data we can see that there are some outliers in our dataset"
   ]
  },
  {
   "cell_type": "markdown",
   "id": "22085559",
   "metadata": {},
   "source": [
    "# Data Preprocessing and Data visualization"
   ]
  },
  {
   "cell_type": "markdown",
   "id": "3392118a",
   "metadata": {},
   "source": [
    " Missing values"
   ]
  },
  {
   "cell_type": "code",
   "execution_count": 9,
   "id": "6852854d",
   "metadata": {
    "scrolled": true
   },
   "outputs": [
    {
     "data": {
      "text/plain": [
       "area_type          0\n",
       "availability       0\n",
       "location           1\n",
       "size              16\n",
       "society         5502\n",
       "total_sqft         0\n",
       "bath              73\n",
       "balcony          609\n",
       "price              0\n",
       "dtype: int64"
      ]
     },
     "execution_count": 9,
     "metadata": {},
     "output_type": "execute_result"
    }
   ],
   "source": [
    "df.isnull().sum()"
   ]
  },
  {
   "cell_type": "code",
   "execution_count": 10,
   "id": "991df99a",
   "metadata": {},
   "outputs": [
    {
     "data": {
      "image/png": "[encoded data removed]",
      "text/plain": [
       "<Figure size 1000x600 with 1 Axes>"
      ]
     },
     "metadata": {},
     "output_type": "display_data"
    }
   ],
   "source": [
    "plt.figure(figsize=(10, 6))\n",
    "sns.heatmap(df.isnull(), cbar=False, cmap='viridis')\n",
    "plt.title(\"Null Values Heatmap\")\n",
    "plt.show()"
   ]
  },
  {
   "cell_type": "markdown",
   "id": "cb81a339",
   "metadata": {},
   "source": [
    "as we can see there are lots of missing values in society column so we can drop that, but some features has very very less null values so not showing on heatmap"
   ]
  },
  {
   "cell_type": "code",
   "execution_count": 11,
   "id": "869384aa",
   "metadata": {},
   "outputs": [],
   "source": [
    "df.drop('society', axis = 1, inplace = True)"
   ]
  },
  {
   "cell_type": "markdown",
   "id": "3eb682e5",
   "metadata": {},
   "source": [
    "we have only one null value in location column so we can remove that"
   ]
  },
  {
   "cell_type": "code",
   "execution_count": 12,
   "id": "e6d8a94d",
   "metadata": {},
   "outputs": [],
   "source": [
    "df.dropna(subset=['location'], inplace=True)"
   ]
  },
  {
   "cell_type": "markdown",
   "id": "c9536d1d",
   "metadata": {},
   "source": [
    "fill the null values in size column with mode"
   ]
  },
  {
   "cell_type": "code",
   "execution_count": 13,
   "id": "7ef5bebb",
   "metadata": {},
   "outputs": [],
   "source": [
    "mode_value = df['size'].mode()[0]\n",
    "df['size'].fillna(mode_value, inplace=True)"
   ]
  },
  {
   "cell_type": "markdown",
   "id": "3d6c5e96",
   "metadata": {},
   "source": [
    "fill null values in bath column with mean"
   ]
  },
  {
   "cell_type": "code",
   "execution_count": 14,
   "id": "1f0d923d",
   "metadata": {},
   "outputs": [],
   "source": [
    "mean_value = df['bath'].mean()\n",
    "df['bath'].fillna(mean_value, inplace=True)"
   ]
  },
  {
   "cell_type": "code",
   "execution_count": 15,
   "id": "6570a9d7",
   "metadata": {},
   "outputs": [],
   "source": [
    "median_value = df['balcony'].median()\n",
    "df['balcony'].fillna(median_value, inplace=True)"
   ]
  },
  {
   "cell_type": "code",
   "execution_count": 16,
   "id": "fd552715",
   "metadata": {},
   "outputs": [
    {
     "data": {
      "text/plain": [
       "area_type       0\n",
       "availability    0\n",
       "location        0\n",
       "size            0\n",
       "total_sqft      0\n",
       "bath            0\n",
       "balcony         0\n",
       "price           0\n",
       "dtype: int64"
      ]
     },
     "execution_count": 16,
     "metadata": {},
     "output_type": "execute_result"
    }
   ],
   "source": [
    "df.isnull().sum()"
   ]
  },
  {
   "cell_type": "markdown",
   "id": "94d46c2b",
   "metadata": {},
   "source": [
    "Check for duplicate values"
   ]
  },
  {
   "cell_type": "code",
   "execution_count": 17,
   "id": "34440770",
   "metadata": {
    "scrolled": true
   },
   "outputs": [
    {
     "data": {
      "text/plain": [
       "551"
      ]
     },
     "execution_count": 17,
     "metadata": {},
     "output_type": "execute_result"
    }
   ],
   "source": [
    "df.duplicated().sum()"
   ]
  },
  {
   "cell_type": "markdown",
   "id": "abf07e3c",
   "metadata": {},
   "source": [
    "as we can see that our dataset has 550 duplicate values so we will be removing that"
   ]
  },
  {
   "cell_type": "code",
   "execution_count": 18,
   "id": "8fdca9a0",
   "metadata": {},
   "outputs": [],
   "source": [
    "df.drop_duplicates(inplace=True)"
   ]
  },
  {
   "cell_type": "code",
   "execution_count": 19,
   "id": "005f77e6",
   "metadata": {
    "scrolled": true
   },
   "outputs": [
    {
     "data": {
      "text/plain": [
       "0"
      ]
     },
     "execution_count": 19,
     "metadata": {},
     "output_type": "execute_result"
    }
   ],
   "source": [
    "df.duplicated().sum()"
   ]
  },
  {
   "cell_type": "markdown",
   "id": "edf6d28e",
   "metadata": {},
   "source": [
    "# scatter plot for balcony and price"
   ]
  },
  {
   "cell_type": "code",
   "execution_count": 20,
   "id": "76ff864b",
   "metadata": {
    "scrolled": true
   },
   "outputs": [
    {
     "data": {
      "image/png": "[encoded data removed]",
      "text/plain": [
       "<Figure size 800x600 with 1 Axes>"
      ]
     },
     "metadata": {},
     "output_type": "display_data"
    }
   ],
   "source": [
    "import matplotlib.pyplot as plt\n",
    "\n",
    "plt.figure(figsize=(8, 6))\n",
    "plt.scatter(df['balcony'], df['price'], alpha=0.5)\n",
    "plt.xlabel('Number of Balconies')\n",
    "plt.ylabel('Price')\n",
    "plt.title('Relationship between Balcony and Price')\n",
    "plt.show()\n"
   ]
  },
  {
   "cell_type": "markdown",
   "id": "6e5b23d3",
   "metadata": {},
   "source": [
    "here we can easily see that there is no good relationship between balcony and price so we will drop balcony feature"
   ]
  },
  {
   "cell_type": "code",
   "execution_count": 21,
   "id": "3501ba2d",
   "metadata": {},
   "outputs": [],
   "source": [
    "df.drop('balcony', axis = 1, inplace = True)"
   ]
  },
  {
   "cell_type": "code",
   "execution_count": 22,
   "id": "8724b780",
   "metadata": {
    "scrolled": true
   },
   "outputs": [
    {
     "name": "stdout",
     "output_type": "stream",
     "text": [
      "<class 'pandas.core.frame.DataFrame'>\n",
      "Int64Index: 12768 entries, 0 to 13318\n",
      "Data columns (total 7 columns):\n",
      " #   Column        Non-Null Count  Dtype  \n",
      "---  ------        --------------  -----  \n",
      " 0   area_type     12768 non-null  object \n",
      " 1   availability  12768 non-null  object \n",
      " 2   location      12768 non-null  object \n",
      " 3   size          12768 non-null  object \n",
      " 4   total_sqft    12768 non-null  object \n",
      " 5   bath          12768 non-null  float64\n",
      " 6   price         12768 non-null  object \n",
      "dtypes: float64(1), object(6)\n",
      "memory usage: 798.0+ KB\n"
     ]
    }
   ],
   "source": [
    "df.info()"
   ]
  },
  {
   "cell_type": "code",
   "execution_count": null,
   "id": "3b45d740",
   "metadata": {},
   "outputs": [],
   "source": []
  },
  {
   "cell_type": "markdown",
   "id": "6d1956c9",
   "metadata": {},
   "source": [
    "# we can not handle null values directly as some features contain special characters with them so we have to remove these non numeric characters and make these values numeric and then treat the null values"
   ]
  },
  {
   "cell_type": "markdown",
   "id": "7d7b76ee",
   "metadata": {},
   "source": [
    "Drop less important features like availability as this is not contributing in predicting the price"
   ]
  },
  {
   "cell_type": "code",
   "execution_count": 23,
   "id": "3b745cfd",
   "metadata": {},
   "outputs": [],
   "source": [
    "df.drop('availability' ,axis = 1, inplace = True)"
   ]
  },
  {
   "cell_type": "markdown",
   "id": "a7b76a21",
   "metadata": {},
   "source": [
    "# Handle location feature"
   ]
  },
  {
   "cell_type": "code",
   "execution_count": 24,
   "id": "a29518b8",
   "metadata": {},
   "outputs": [
    {
     "data": {
      "text/plain": [
       "array(['Electronic City Phase II', 'Chikka Tirupathi', 'Uttarahalli', ...,\n",
       "       '12th cross srinivas nagar banshankari 3rd stage',\n",
       "       'Havanur extension', 'Abshot Layout'], dtype=object)"
      ]
     },
     "execution_count": 24,
     "metadata": {},
     "output_type": "execute_result"
    }
   ],
   "source": [
    "df['location'].unique()"
   ]
  },
  {
   "cell_type": "code",
   "execution_count": 25,
   "id": "93b064b8",
   "metadata": {
    "scrolled": true
   },
   "outputs": [
    {
     "data": {
      "text/plain": [
       "1305"
      ]
     },
     "execution_count": 25,
     "metadata": {},
     "output_type": "execute_result"
    }
   ],
   "source": [
    "len(df['location'].unique())"
   ]
  },
  {
   "cell_type": "markdown",
   "id": "079cbb2e",
   "metadata": {},
   "source": [
    "We have 1305 unique features which is huge.here the number is too big & encoding would not be appropriate."
   ]
  },
  {
   "cell_type": "markdown",
   "id": "3b7004e3",
   "metadata": {},
   "source": [
    "check how many count each unique value has"
   ]
  },
  {
   "cell_type": "code",
   "execution_count": 26,
   "id": "59c585b3",
   "metadata": {},
   "outputs": [
    {
     "data": {
      "text/plain": [
       "Whitefield                        524\n",
       "Sarjapur  Road                    379\n",
       "Electronic City                   289\n",
       "Kanakpura Road                    242\n",
       "Thanisandra                       229\n",
       "                                 ... \n",
       "Bapuji Layout                       1\n",
       "1st Stage Radha Krishna Layout      1\n",
       "BEML Layout 5th stage               1\n",
       "singapura paradise                  1\n",
       "Abshot Layout                       1\n",
       "Name: location, Length: 1305, dtype: int64"
      ]
     },
     "execution_count": 26,
     "metadata": {},
     "output_type": "execute_result"
    }
   ],
   "source": [
    "location_counts = df['location'].value_counts()\n",
    "location_counts"
   ]
  },
  {
   "cell_type": "markdown",
   "id": "dc128c86",
   "metadata": {},
   "source": [
    "To deal with it, we can convert some location to 'Other'Category. Locations which has few data points, we will convert it to 'Other' category"
   ]
  },
  {
   "cell_type": "code",
   "execution_count": 27,
   "id": "4dd6777a",
   "metadata": {},
   "outputs": [],
   "source": [
    "location_counts = df['location'].str.strip().value_counts()\n",
    "locations_to_convert = location_counts[location_counts <= 10].index\n",
    "\n",
    "# Replace locations with counts less than or equal to 10 with 'Other'\n",
    "df['location'] = df['location'].apply(lambda x: 'Other' if x in locations_to_convert else x)"
   ]
  },
  {
   "cell_type": "code",
   "execution_count": 28,
   "id": "f761f264",
   "metadata": {},
   "outputs": [
    {
     "name": "stdout",
     "output_type": "stream",
     "text": [
      "Count of 'Other' category: 2852\n"
     ]
    }
   ],
   "source": [
    "other_count = df['location'].value_counts().get('Other', 0)\n",
    "\n",
    "print(\"Count of 'Other' category:\", other_count)"
   ]
  },
  {
   "cell_type": "markdown",
   "id": "0bb077f3",
   "metadata": {},
   "source": [
    "# Handle Size Feature"
   ]
  },
  {
   "cell_type": "code",
   "execution_count": 29,
   "id": "5fea60a2",
   "metadata": {},
   "outputs": [
    {
     "data": {
      "text/plain": [
       "array(['2 BHK', '4 Bedroom', '3 BHK', '4 BHK', '6 Bedroom', '3 Bedroom',\n",
       "       '1 BHK', '1 RK', '1 Bedroom', '8 Bedroom', '2 Bedroom',\n",
       "       '7 Bedroom', '5 BHK', '7 BHK', '6 BHK', '5 Bedroom', '11 BHK',\n",
       "       '9 BHK', '9 Bedroom', '27 BHK', '10 Bedroom', '11 Bedroom',\n",
       "       '10 BHK', '19 BHK', '16 BHK', '43 Bedroom', '14 BHK', '8 BHK',\n",
       "       '12 Bedroom', '13 BHK', '18 Bedroom'], dtype=object)"
      ]
     },
     "execution_count": 29,
     "metadata": {},
     "output_type": "execute_result"
    }
   ],
   "source": [
    "df['size'].unique()"
   ]
  },
  {
   "cell_type": "markdown",
   "id": "44787ac0",
   "metadata": {},
   "source": [
    "Here we can see that Somewhere the columns are BHK, somewhere it says Bedroom, somewhere it is only hk .to handle such data, \n",
    "we will create a new column bhk that will only hold the value of the data"
   ]
  },
  {
   "cell_type": "code",
   "execution_count": 30,
   "id": "de2fe491",
   "metadata": {},
   "outputs": [],
   "source": [
    "df['bhk'] = df['size'].apply(lambda x: int(x.split(' ')[0]))"
   ]
  },
  {
   "cell_type": "code",
   "execution_count": 31,
   "id": "85ce6f74",
   "metadata": {},
   "outputs": [],
   "source": [
    "df['size'] = df['size'].astype(str)\n",
    "df['bhk'] = df['size'].apply(lambda x: int(x.split(' ')[0]) if pd.notnull(x) else None)\n"
   ]
  },
  {
   "cell_type": "markdown",
   "id": "22976f6a",
   "metadata": {},
   "source": [
    "drop size feature as we created a new feature bhk"
   ]
  },
  {
   "cell_type": "code",
   "execution_count": 32,
   "id": "02ce0ae6",
   "metadata": {},
   "outputs": [],
   "source": [
    "df.drop('size', axis = 1, inplace = True)"
   ]
  },
  {
   "cell_type": "code",
   "execution_count": 33,
   "id": "076fa28f",
   "metadata": {
    "scrolled": false
   },
   "outputs": [
    {
     "data": {
      "text/html": [
       "<div>\n",
       "<style scoped>\n",
       "    .dataframe tbody tr th:only-of-type {\n",
       "        vertical-align: middle;\n",
       "    }\n",
       "\n",
       "    .dataframe tbody tr th {\n",
       "        vertical-align: top;\n",
       "    }\n",
       "\n",
       "    .dataframe thead th {\n",
       "        text-align: right;\n",
       "    }\n",
       "</style>\n",
       "<table border=\"1\" class=\"dataframe\">\n",
       "  <thead>\n",
       "    <tr style=\"text-align: right;\">\n",
       "      <th></th>\n",
       "      <th>area_type</th>\n",
       "      <th>location</th>\n",
       "      <th>total_sqft</th>\n",
       "      <th>bath</th>\n",
       "      <th>price</th>\n",
       "      <th>bhk</th>\n",
       "    </tr>\n",
       "  </thead>\n",
       "  <tbody>\n",
       "    <tr>\n",
       "      <th>0</th>\n",
       "      <td>Super built-up  Area</td>\n",
       "      <td>Electronic City Phase II</td>\n",
       "      <td>1056</td>\n",
       "      <td>2.0</td>\n",
       "      <td>$39.07</td>\n",
       "      <td>2</td>\n",
       "    </tr>\n",
       "    <tr>\n",
       "      <th>1</th>\n",
       "      <td>Plot  Area</td>\n",
       "      <td>Chikka Tirupathi</td>\n",
       "      <td>2600</td>\n",
       "      <td>5.0</td>\n",
       "      <td>$120.00</td>\n",
       "      <td>4</td>\n",
       "    </tr>\n",
       "    <tr>\n",
       "      <th>2</th>\n",
       "      <td>Built-up  Area</td>\n",
       "      <td>Uttarahalli</td>\n",
       "      <td>1440</td>\n",
       "      <td>2.0</td>\n",
       "      <td>$62.00</td>\n",
       "      <td>3</td>\n",
       "    </tr>\n",
       "    <tr>\n",
       "      <th>3</th>\n",
       "      <td>Super built-up  Area</td>\n",
       "      <td>Lingadheeranahalli</td>\n",
       "      <td>1521</td>\n",
       "      <td>3.0</td>\n",
       "      <td>$95.00</td>\n",
       "      <td>3</td>\n",
       "    </tr>\n",
       "    <tr>\n",
       "      <th>4</th>\n",
       "      <td>Super built-up  Area</td>\n",
       "      <td>Kothanur</td>\n",
       "      <td>1200</td>\n",
       "      <td>2.0</td>\n",
       "      <td>$51.00</td>\n",
       "      <td>2</td>\n",
       "    </tr>\n",
       "  </tbody>\n",
       "</table>\n",
       "</div>"
      ],
      "text/plain": [
       "              area_type                  location total_sqft  bath      price  \\\n",
       "0  Super built-up  Area  Electronic City Phase II       1056   2.0    $39.07    \n",
       "1            Plot  Area          Chikka Tirupathi       2600   5.0   $120.00    \n",
       "2        Built-up  Area               Uttarahalli       1440   2.0    $62.00    \n",
       "3  Super built-up  Area        Lingadheeranahalli       1521   3.0    $95.00    \n",
       "4  Super built-up  Area                  Kothanur       1200   2.0    $51.00    \n",
       "\n",
       "   bhk  \n",
       "0    2  \n",
       "1    4  \n",
       "2    3  \n",
       "3    3  \n",
       "4    2  "
      ]
     },
     "execution_count": 33,
     "metadata": {},
     "output_type": "execute_result"
    }
   ],
   "source": [
    "df.head()"
   ]
  },
  {
   "cell_type": "markdown",
   "id": "5a44a2f7",
   "metadata": {},
   "source": [
    "# Handle total_sqft feature"
   ]
  },
  {
   "cell_type": "code",
   "execution_count": 34,
   "id": "a4d68b05",
   "metadata": {},
   "outputs": [
    {
     "data": {
      "text/plain": [
       "array(['1056', '2600', '1440', ..., '1133 - 1384', '774', '4689'],\n",
       "      dtype=object)"
      ]
     },
     "execution_count": 34,
     "metadata": {},
     "output_type": "execute_result"
    }
   ],
   "source": [
    "df['total_sqft'].unique()"
   ]
  },
  {
   "cell_type": "code",
   "execution_count": 35,
   "id": "81fc1f75",
   "metadata": {},
   "outputs": [
    {
     "name": "stdout",
     "output_type": "stream",
     "text": [
      "The target variable contains non-numeric characters.\n"
     ]
    }
   ],
   "source": [
    "df['total_sqft'] = df['total_sqft'].astype(str)\n",
    "has_non_numeric_chars = df['total_sqft'].str.contains('[^0-9.]').any()\n",
    "\n",
    "if has_non_numeric_chars:\n",
    "    print(\"The target variable contains non-numeric characters.\")\n",
    "else:\n",
    "    print(\"The target variable only contains numeric values.\")\n"
   ]
  },
  {
   "cell_type": "markdown",
   "id": "d47599f1",
   "metadata": {},
   "source": [
    "as we can see that this feature has some range values, some non numeric values, here we can convert range values  into an  average value and remove non numeric values"
   ]
  },
  {
   "cell_type": "code",
   "execution_count": 36,
   "id": "04acc1c2",
   "metadata": {},
   "outputs": [],
   "source": [
    "import re\n",
    "import numpy as np\n",
    "\n",
    "df['total_sqft'] = df['total_sqft'].replace('[^0-9.-]', '', regex=True)\n",
    "df['total_sqft'] = df['total_sqft'].str.rstrip('.')\n",
    "\n",
    "def convert_to_float(value):\n",
    "    if '-' in value:\n",
    "        range_values = value.split('-')\n",
    "        converted_values = []\n",
    "        for val in range_values:\n",
    "            try:\n",
    "                converted_values.append(float(val))\n",
    "            except ValueError:\n",
    "                return np.nan\n",
    "        return np.mean(converted_values)\n",
    "    else:\n",
    "        try:\n",
    "            return float(value)\n",
    "        except ValueError:\n",
    "            return np.nan\n",
    "\n",
    "df['total_sqft'] = df['total_sqft'].apply(convert_to_float)\n"
   ]
  },
  {
   "cell_type": "code",
   "execution_count": 37,
   "id": "511974f3",
   "metadata": {
    "scrolled": false
   },
   "outputs": [
    {
     "data": {
      "text/html": [
       "<div>\n",
       "<style scoped>\n",
       "    .dataframe tbody tr th:only-of-type {\n",
       "        vertical-align: middle;\n",
       "    }\n",
       "\n",
       "    .dataframe tbody tr th {\n",
       "        vertical-align: top;\n",
       "    }\n",
       "\n",
       "    .dataframe thead th {\n",
       "        text-align: right;\n",
       "    }\n",
       "</style>\n",
       "<table border=\"1\" class=\"dataframe\">\n",
       "  <thead>\n",
       "    <tr style=\"text-align: right;\">\n",
       "      <th></th>\n",
       "      <th>area_type</th>\n",
       "      <th>location</th>\n",
       "      <th>total_sqft</th>\n",
       "      <th>bath</th>\n",
       "      <th>price</th>\n",
       "      <th>bhk</th>\n",
       "    </tr>\n",
       "  </thead>\n",
       "  <tbody>\n",
       "    <tr>\n",
       "      <th>0</th>\n",
       "      <td>Super built-up  Area</td>\n",
       "      <td>Electronic City Phase II</td>\n",
       "      <td>1056.0</td>\n",
       "      <td>2.0</td>\n",
       "      <td>$39.07</td>\n",
       "      <td>2</td>\n",
       "    </tr>\n",
       "    <tr>\n",
       "      <th>1</th>\n",
       "      <td>Plot  Area</td>\n",
       "      <td>Chikka Tirupathi</td>\n",
       "      <td>2600.0</td>\n",
       "      <td>5.0</td>\n",
       "      <td>$120.00</td>\n",
       "      <td>4</td>\n",
       "    </tr>\n",
       "    <tr>\n",
       "      <th>2</th>\n",
       "      <td>Built-up  Area</td>\n",
       "      <td>Uttarahalli</td>\n",
       "      <td>1440.0</td>\n",
       "      <td>2.0</td>\n",
       "      <td>$62.00</td>\n",
       "      <td>3</td>\n",
       "    </tr>\n",
       "    <tr>\n",
       "      <th>3</th>\n",
       "      <td>Super built-up  Area</td>\n",
       "      <td>Lingadheeranahalli</td>\n",
       "      <td>1521.0</td>\n",
       "      <td>3.0</td>\n",
       "      <td>$95.00</td>\n",
       "      <td>3</td>\n",
       "    </tr>\n",
       "    <tr>\n",
       "      <th>4</th>\n",
       "      <td>Super built-up  Area</td>\n",
       "      <td>Kothanur</td>\n",
       "      <td>1200.0</td>\n",
       "      <td>2.0</td>\n",
       "      <td>$51.00</td>\n",
       "      <td>2</td>\n",
       "    </tr>\n",
       "  </tbody>\n",
       "</table>\n",
       "</div>"
      ],
      "text/plain": [
       "              area_type                  location  total_sqft  bath  \\\n",
       "0  Super built-up  Area  Electronic City Phase II      1056.0   2.0   \n",
       "1            Plot  Area          Chikka Tirupathi      2600.0   5.0   \n",
       "2        Built-up  Area               Uttarahalli      1440.0   2.0   \n",
       "3  Super built-up  Area        Lingadheeranahalli      1521.0   3.0   \n",
       "4  Super built-up  Area                  Kothanur      1200.0   2.0   \n",
       "\n",
       "       price  bhk  \n",
       "0    $39.07     2  \n",
       "1   $120.00     4  \n",
       "2    $62.00     3  \n",
       "3    $95.00     3  \n",
       "4    $51.00     2  "
      ]
     },
     "execution_count": 37,
     "metadata": {},
     "output_type": "execute_result"
    }
   ],
   "source": [
    "df.head()"
   ]
  },
  {
   "cell_type": "markdown",
   "id": "591fd35d",
   "metadata": {},
   "source": [
    "fill null values in balcony column with median"
   ]
  },
  {
   "cell_type": "markdown",
   "id": "973a9916",
   "metadata": {},
   "source": [
    "# Handle target variable"
   ]
  },
  {
   "cell_type": "code",
   "execution_count": 38,
   "id": "e4107788",
   "metadata": {
    "scrolled": false
   },
   "outputs": [
    {
     "data": {
      "text/plain": [
       "array([' $39.07 ', ' $120.00 ', ' $62.00 ', ..., '40.14', '231', '488'],\n",
       "      dtype=object)"
      ]
     },
     "execution_count": 38,
     "metadata": {},
     "output_type": "execute_result"
    }
   ],
   "source": [
    "df['price'].unique()"
   ]
  },
  {
   "cell_type": "markdown",
   "id": "bb81217a",
   "metadata": {},
   "source": [
    "check if the target variable has any range value in it"
   ]
  },
  {
   "cell_type": "code",
   "execution_count": 39,
   "id": "27f88a78",
   "metadata": {
    "scrolled": true
   },
   "outputs": [
    {
     "name": "stdout",
     "output_type": "stream",
     "text": [
      "The target variable contains range values.\n"
     ]
    }
   ],
   "source": [
    "unique_values = df['price'].unique()\n",
    "\n",
    "# Check if any unique value contains a range character (e.g., '-')\n",
    "has_range_values = any('-' in value for value in unique_values)\n",
    "\n",
    "if has_range_values:\n",
    "    print(\"The target variable contains range values.\")\n",
    "else:\n",
    "    print(\"The target variable does not contain range values.\")\n"
   ]
  },
  {
   "cell_type": "markdown",
   "id": "64cae371",
   "metadata": {},
   "source": [
    "so the target variable has some range values along with $, ?, \\x80sign so we have to remove them"
   ]
  },
  {
   "cell_type": "markdown",
   "id": "4325f1dd",
   "metadata": {},
   "source": [
    "remove $, ?, \\x80 sign from target variable"
   ]
  },
  {
   "cell_type": "code",
   "execution_count": 40,
   "id": "07eaf04e",
   "metadata": {},
   "outputs": [],
   "source": [
    "df['price'] = df['price'].str.replace('$', '')\n",
    "df['price'] = df['price'].str.replace('?', '')\n",
    "df['price'] = df['price'].str.replace('\\x80', '')\n",
    "# Calculate the average value of the range\n",
    "df['price'] = df['price'].apply(lambda x: (float(x.split('-')[0]) + float(x.split('-')[1])) / 2 if '-' in x else float(x))"
   ]
  },
  {
   "cell_type": "code",
   "execution_count": 41,
   "id": "dcf2fdc4",
   "metadata": {},
   "outputs": [
    {
     "data": {
      "text/plain": [
       "array([ 39.07, 120.  ,  62.  , ...,  40.14, 231.  , 488.  ])"
      ]
     },
     "execution_count": 41,
     "metadata": {},
     "output_type": "execute_result"
    }
   ],
   "source": [
    "df['price'].unique()"
   ]
  },
  {
   "cell_type": "code",
   "execution_count": 42,
   "id": "0e018683",
   "metadata": {
    "scrolled": true
   },
   "outputs": [
    {
     "data": {
      "text/html": [
       "<div>\n",
       "<style scoped>\n",
       "    .dataframe tbody tr th:only-of-type {\n",
       "        vertical-align: middle;\n",
       "    }\n",
       "\n",
       "    .dataframe tbody tr th {\n",
       "        vertical-align: top;\n",
       "    }\n",
       "\n",
       "    .dataframe thead th {\n",
       "        text-align: right;\n",
       "    }\n",
       "</style>\n",
       "<table border=\"1\" class=\"dataframe\">\n",
       "  <thead>\n",
       "    <tr style=\"text-align: right;\">\n",
       "      <th></th>\n",
       "      <th>area_type</th>\n",
       "      <th>location</th>\n",
       "      <th>total_sqft</th>\n",
       "      <th>bath</th>\n",
       "      <th>price</th>\n",
       "      <th>bhk</th>\n",
       "    </tr>\n",
       "  </thead>\n",
       "  <tbody>\n",
       "    <tr>\n",
       "      <th>0</th>\n",
       "      <td>Super built-up  Area</td>\n",
       "      <td>Electronic City Phase II</td>\n",
       "      <td>1056.0</td>\n",
       "      <td>2.0</td>\n",
       "      <td>39.07</td>\n",
       "      <td>2</td>\n",
       "    </tr>\n",
       "    <tr>\n",
       "      <th>1</th>\n",
       "      <td>Plot  Area</td>\n",
       "      <td>Chikka Tirupathi</td>\n",
       "      <td>2600.0</td>\n",
       "      <td>5.0</td>\n",
       "      <td>120.00</td>\n",
       "      <td>4</td>\n",
       "    </tr>\n",
       "    <tr>\n",
       "      <th>2</th>\n",
       "      <td>Built-up  Area</td>\n",
       "      <td>Uttarahalli</td>\n",
       "      <td>1440.0</td>\n",
       "      <td>2.0</td>\n",
       "      <td>62.00</td>\n",
       "      <td>3</td>\n",
       "    </tr>\n",
       "    <tr>\n",
       "      <th>3</th>\n",
       "      <td>Super built-up  Area</td>\n",
       "      <td>Lingadheeranahalli</td>\n",
       "      <td>1521.0</td>\n",
       "      <td>3.0</td>\n",
       "      <td>95.00</td>\n",
       "      <td>3</td>\n",
       "    </tr>\n",
       "    <tr>\n",
       "      <th>4</th>\n",
       "      <td>Super built-up  Area</td>\n",
       "      <td>Kothanur</td>\n",
       "      <td>1200.0</td>\n",
       "      <td>2.0</td>\n",
       "      <td>51.00</td>\n",
       "      <td>2</td>\n",
       "    </tr>\n",
       "  </tbody>\n",
       "</table>\n",
       "</div>"
      ],
      "text/plain": [
       "              area_type                  location  total_sqft  bath   price  \\\n",
       "0  Super built-up  Area  Electronic City Phase II      1056.0   2.0   39.07   \n",
       "1            Plot  Area          Chikka Tirupathi      2600.0   5.0  120.00   \n",
       "2        Built-up  Area               Uttarahalli      1440.0   2.0   62.00   \n",
       "3  Super built-up  Area        Lingadheeranahalli      1521.0   3.0   95.00   \n",
       "4  Super built-up  Area                  Kothanur      1200.0   2.0   51.00   \n",
       "\n",
       "   bhk  \n",
       "0    2  \n",
       "1    4  \n",
       "2    3  \n",
       "3    3  \n",
       "4    2  "
      ]
     },
     "execution_count": 42,
     "metadata": {},
     "output_type": "execute_result"
    }
   ],
   "source": [
    "df.head()"
   ]
  },
  {
   "cell_type": "markdown",
   "id": "8fca0066",
   "metadata": {},
   "source": [
    "# Outlier detection"
   ]
  },
  {
   "cell_type": "code",
   "execution_count": 43,
   "id": "d083ab87",
   "metadata": {
    "scrolled": false
   },
   "outputs": [
    {
     "data": {
      "text/html": [
       "<div>\n",
       "<style scoped>\n",
       "    .dataframe tbody tr th:only-of-type {\n",
       "        vertical-align: middle;\n",
       "    }\n",
       "\n",
       "    .dataframe tbody tr th {\n",
       "        vertical-align: top;\n",
       "    }\n",
       "\n",
       "    .dataframe thead th {\n",
       "        text-align: right;\n",
       "    }\n",
       "</style>\n",
       "<table border=\"1\" class=\"dataframe\">\n",
       "  <thead>\n",
       "    <tr style=\"text-align: right;\">\n",
       "      <th></th>\n",
       "      <th>total_sqft</th>\n",
       "      <th>bath</th>\n",
       "      <th>price</th>\n",
       "      <th>bhk</th>\n",
       "    </tr>\n",
       "  </thead>\n",
       "  <tbody>\n",
       "    <tr>\n",
       "      <th>count</th>\n",
       "      <td>12768.000000</td>\n",
       "      <td>12768.000000</td>\n",
       "      <td>12768.000000</td>\n",
       "      <td>12768.000000</td>\n",
       "    </tr>\n",
       "    <tr>\n",
       "      <th>mean</th>\n",
       "      <td>1566.212195</td>\n",
       "      <td>2.709239</td>\n",
       "      <td>117.641153</td>\n",
       "      <td>2.817513</td>\n",
       "    </tr>\n",
       "    <tr>\n",
       "      <th>std</th>\n",
       "      <td>1261.337500</td>\n",
       "      <td>1.354969</td>\n",
       "      <td>402.684472</td>\n",
       "      <td>1.312370</td>\n",
       "    </tr>\n",
       "    <tr>\n",
       "      <th>min</th>\n",
       "      <td>1.000000</td>\n",
       "      <td>1.000000</td>\n",
       "      <td>8.000000</td>\n",
       "      <td>1.000000</td>\n",
       "    </tr>\n",
       "    <tr>\n",
       "      <th>25%</th>\n",
       "      <td>1100.000000</td>\n",
       "      <td>2.000000</td>\n",
       "      <td>50.000000</td>\n",
       "      <td>2.000000</td>\n",
       "    </tr>\n",
       "    <tr>\n",
       "      <th>50%</th>\n",
       "      <td>1280.000000</td>\n",
       "      <td>2.000000</td>\n",
       "      <td>73.000000</td>\n",
       "      <td>3.000000</td>\n",
       "    </tr>\n",
       "    <tr>\n",
       "      <th>75%</th>\n",
       "      <td>1690.000000</td>\n",
       "      <td>3.000000</td>\n",
       "      <td>121.250000</td>\n",
       "      <td>3.000000</td>\n",
       "    </tr>\n",
       "    <tr>\n",
       "      <th>max</th>\n",
       "      <td>52272.000000</td>\n",
       "      <td>40.000000</td>\n",
       "      <td>42278.000000</td>\n",
       "      <td>43.000000</td>\n",
       "    </tr>\n",
       "  </tbody>\n",
       "</table>\n",
       "</div>"
      ],
      "text/plain": [
       "         total_sqft          bath         price           bhk\n",
       "count  12768.000000  12768.000000  12768.000000  12768.000000\n",
       "mean    1566.212195      2.709239    117.641153      2.817513\n",
       "std     1261.337500      1.354969    402.684472      1.312370\n",
       "min        1.000000      1.000000      8.000000      1.000000\n",
       "25%     1100.000000      2.000000     50.000000      2.000000\n",
       "50%     1280.000000      2.000000     73.000000      3.000000\n",
       "75%     1690.000000      3.000000    121.250000      3.000000\n",
       "max    52272.000000     40.000000  42278.000000     43.000000"
      ]
     },
     "execution_count": 43,
     "metadata": {},
     "output_type": "execute_result"
    }
   ],
   "source": [
    "df.describe()"
   ]
  },
  {
   "cell_type": "markdown",
   "id": "0f16db2c",
   "metadata": {},
   "source": [
    "we know that normally a room size is between 150 and 300 square feet lets assume that 250 square feet is the normal size of a room"
   ]
  },
  {
   "cell_type": "markdown",
   "id": "b7412738",
   "metadata": {},
   "source": [
    "we wiil be removing the datapoints have size <250 sqare feet"
   ]
  },
  {
   "cell_type": "code",
   "execution_count": 44,
   "id": "53f2841d",
   "metadata": {},
   "outputs": [],
   "source": [
    "df= df[~(df.total_sqft/df.bhk <250)]"
   ]
  },
  {
   "cell_type": "code",
   "execution_count": 45,
   "id": "c3bceba1",
   "metadata": {
    "scrolled": true
   },
   "outputs": [
    {
     "name": "stdout",
     "output_type": "stream",
     "text": [
      "<class 'pandas.core.frame.DataFrame'>\n",
      "Int64Index: 12127 entries, 0 to 13318\n",
      "Data columns (total 6 columns):\n",
      " #   Column      Non-Null Count  Dtype  \n",
      "---  ------      --------------  -----  \n",
      " 0   area_type   12127 non-null  object \n",
      " 1   location    12127 non-null  object \n",
      " 2   total_sqft  12127 non-null  float64\n",
      " 3   bath        12127 non-null  float64\n",
      " 4   price       12127 non-null  float64\n",
      " 5   bhk         12127 non-null  int64  \n",
      "dtypes: float64(3), int64(1), object(2)\n",
      "memory usage: 663.2+ KB\n"
     ]
    }
   ],
   "source": [
    "df.info()"
   ]
  },
  {
   "cell_type": "code",
   "execution_count": 46,
   "id": "e03cea3d",
   "metadata": {
    "scrolled": true
   },
   "outputs": [
    {
     "data": {
      "text/html": [
       "<div>\n",
       "<style scoped>\n",
       "    .dataframe tbody tr th:only-of-type {\n",
       "        vertical-align: middle;\n",
       "    }\n",
       "\n",
       "    .dataframe tbody tr th {\n",
       "        vertical-align: top;\n",
       "    }\n",
       "\n",
       "    .dataframe thead th {\n",
       "        text-align: right;\n",
       "    }\n",
       "</style>\n",
       "<table border=\"1\" class=\"dataframe\">\n",
       "  <thead>\n",
       "    <tr style=\"text-align: right;\">\n",
       "      <th></th>\n",
       "      <th>total_sqft</th>\n",
       "      <th>bath</th>\n",
       "      <th>price</th>\n",
       "      <th>bhk</th>\n",
       "    </tr>\n",
       "  </thead>\n",
       "  <tbody>\n",
       "    <tr>\n",
       "      <th>count</th>\n",
       "      <td>12127.000000</td>\n",
       "      <td>12127.000000</td>\n",
       "      <td>12127.000000</td>\n",
       "      <td>12127.000000</td>\n",
       "    </tr>\n",
       "    <tr>\n",
       "      <th>mean</th>\n",
       "      <td>1602.107109</td>\n",
       "      <td>2.589227</td>\n",
       "      <td>116.915677</td>\n",
       "      <td>2.678568</td>\n",
       "    </tr>\n",
       "    <tr>\n",
       "      <th>std</th>\n",
       "      <td>1281.358219</td>\n",
       "      <td>1.130218</td>\n",
       "      <td>412.790534</td>\n",
       "      <td>1.036727</td>\n",
       "    </tr>\n",
       "    <tr>\n",
       "      <th>min</th>\n",
       "      <td>250.000000</td>\n",
       "      <td>1.000000</td>\n",
       "      <td>8.000000</td>\n",
       "      <td>1.000000</td>\n",
       "    </tr>\n",
       "    <tr>\n",
       "      <th>25%</th>\n",
       "      <td>1113.060000</td>\n",
       "      <td>2.000000</td>\n",
       "      <td>50.000000</td>\n",
       "      <td>2.000000</td>\n",
       "    </tr>\n",
       "    <tr>\n",
       "      <th>50%</th>\n",
       "      <td>1305.000000</td>\n",
       "      <td>2.000000</td>\n",
       "      <td>70.000000</td>\n",
       "      <td>3.000000</td>\n",
       "    </tr>\n",
       "    <tr>\n",
       "      <th>75%</th>\n",
       "      <td>1711.500000</td>\n",
       "      <td>3.000000</td>\n",
       "      <td>120.000000</td>\n",
       "      <td>3.000000</td>\n",
       "    </tr>\n",
       "    <tr>\n",
       "      <th>max</th>\n",
       "      <td>52272.000000</td>\n",
       "      <td>27.000000</td>\n",
       "      <td>42278.000000</td>\n",
       "      <td>27.000000</td>\n",
       "    </tr>\n",
       "  </tbody>\n",
       "</table>\n",
       "</div>"
      ],
      "text/plain": [
       "         total_sqft          bath         price           bhk\n",
       "count  12127.000000  12127.000000  12127.000000  12127.000000\n",
       "mean    1602.107109      2.589227    116.915677      2.678568\n",
       "std     1281.358219      1.130218    412.790534      1.036727\n",
       "min      250.000000      1.000000      8.000000      1.000000\n",
       "25%     1113.060000      2.000000     50.000000      2.000000\n",
       "50%     1305.000000      2.000000     70.000000      3.000000\n",
       "75%     1711.500000      3.000000    120.000000      3.000000\n",
       "max    52272.000000     27.000000  42278.000000     27.000000"
      ]
     },
     "execution_count": 46,
     "metadata": {},
     "output_type": "execute_result"
    }
   ],
   "source": [
    "df.describe()"
   ]
  },
  {
   "cell_type": "markdown",
   "id": "7c0ee111",
   "metadata": {},
   "source": [
    "we can also find the outlier on the basis of price per squaee feet "
   ]
  },
  {
   "cell_type": "code",
   "execution_count": 47,
   "id": "7170a131",
   "metadata": {},
   "outputs": [],
   "source": [
    " df['price_per_sqft'] = df['price']*100000/df['total_sqft']"
   ]
  },
  {
   "cell_type": "code",
   "execution_count": 48,
   "id": "888a3ad0",
   "metadata": {},
   "outputs": [
    {
     "data": {
      "text/html": [
       "<div>\n",
       "<style scoped>\n",
       "    .dataframe tbody tr th:only-of-type {\n",
       "        vertical-align: middle;\n",
       "    }\n",
       "\n",
       "    .dataframe tbody tr th {\n",
       "        vertical-align: top;\n",
       "    }\n",
       "\n",
       "    .dataframe thead th {\n",
       "        text-align: right;\n",
       "    }\n",
       "</style>\n",
       "<table border=\"1\" class=\"dataframe\">\n",
       "  <thead>\n",
       "    <tr style=\"text-align: right;\">\n",
       "      <th></th>\n",
       "      <th>area_type</th>\n",
       "      <th>location</th>\n",
       "      <th>total_sqft</th>\n",
       "      <th>bath</th>\n",
       "      <th>price</th>\n",
       "      <th>bhk</th>\n",
       "      <th>price_per_sqft</th>\n",
       "    </tr>\n",
       "  </thead>\n",
       "  <tbody>\n",
       "    <tr>\n",
       "      <th>0</th>\n",
       "      <td>Super built-up  Area</td>\n",
       "      <td>Electronic City Phase II</td>\n",
       "      <td>1056.0</td>\n",
       "      <td>2.0</td>\n",
       "      <td>39.07</td>\n",
       "      <td>2</td>\n",
       "      <td>3699.810606</td>\n",
       "    </tr>\n",
       "    <tr>\n",
       "      <th>1</th>\n",
       "      <td>Plot  Area</td>\n",
       "      <td>Chikka Tirupathi</td>\n",
       "      <td>2600.0</td>\n",
       "      <td>5.0</td>\n",
       "      <td>120.00</td>\n",
       "      <td>4</td>\n",
       "      <td>4615.384615</td>\n",
       "    </tr>\n",
       "    <tr>\n",
       "      <th>2</th>\n",
       "      <td>Built-up  Area</td>\n",
       "      <td>Uttarahalli</td>\n",
       "      <td>1440.0</td>\n",
       "      <td>2.0</td>\n",
       "      <td>62.00</td>\n",
       "      <td>3</td>\n",
       "      <td>4305.555556</td>\n",
       "    </tr>\n",
       "    <tr>\n",
       "      <th>3</th>\n",
       "      <td>Super built-up  Area</td>\n",
       "      <td>Lingadheeranahalli</td>\n",
       "      <td>1521.0</td>\n",
       "      <td>3.0</td>\n",
       "      <td>95.00</td>\n",
       "      <td>3</td>\n",
       "      <td>6245.890861</td>\n",
       "    </tr>\n",
       "    <tr>\n",
       "      <th>4</th>\n",
       "      <td>Super built-up  Area</td>\n",
       "      <td>Kothanur</td>\n",
       "      <td>1200.0</td>\n",
       "      <td>2.0</td>\n",
       "      <td>51.00</td>\n",
       "      <td>2</td>\n",
       "      <td>4250.000000</td>\n",
       "    </tr>\n",
       "  </tbody>\n",
       "</table>\n",
       "</div>"
      ],
      "text/plain": [
       "              area_type                  location  total_sqft  bath   price  \\\n",
       "0  Super built-up  Area  Electronic City Phase II      1056.0   2.0   39.07   \n",
       "1            Plot  Area          Chikka Tirupathi      2600.0   5.0  120.00   \n",
       "2        Built-up  Area               Uttarahalli      1440.0   2.0   62.00   \n",
       "3  Super built-up  Area        Lingadheeranahalli      1521.0   3.0   95.00   \n",
       "4  Super built-up  Area                  Kothanur      1200.0   2.0   51.00   \n",
       "\n",
       "   bhk  price_per_sqft  \n",
       "0    2     3699.810606  \n",
       "1    4     4615.384615  \n",
       "2    3     4305.555556  \n",
       "3    3     6245.890861  \n",
       "4    2     4250.000000  "
      ]
     },
     "execution_count": 48,
     "metadata": {},
     "output_type": "execute_result"
    }
   ],
   "source": [
    "df.head()"
   ]
  },
  {
   "cell_type": "code",
   "execution_count": 49,
   "id": "fc1e57ff",
   "metadata": {
    "scrolled": false
   },
   "outputs": [
    {
     "data": {
      "text/html": [
       "<div>\n",
       "<style scoped>\n",
       "    .dataframe tbody tr th:only-of-type {\n",
       "        vertical-align: middle;\n",
       "    }\n",
       "\n",
       "    .dataframe tbody tr th {\n",
       "        vertical-align: top;\n",
       "    }\n",
       "\n",
       "    .dataframe thead th {\n",
       "        text-align: right;\n",
       "    }\n",
       "</style>\n",
       "<table border=\"1\" class=\"dataframe\">\n",
       "  <thead>\n",
       "    <tr style=\"text-align: right;\">\n",
       "      <th></th>\n",
       "      <th>total_sqft</th>\n",
       "      <th>bath</th>\n",
       "      <th>price</th>\n",
       "      <th>bhk</th>\n",
       "      <th>price_per_sqft</th>\n",
       "    </tr>\n",
       "  </thead>\n",
       "  <tbody>\n",
       "    <tr>\n",
       "      <th>count</th>\n",
       "      <td>12127.000000</td>\n",
       "      <td>12127.000000</td>\n",
       "      <td>12127.000000</td>\n",
       "      <td>12127.000000</td>\n",
       "      <td>12127.000000</td>\n",
       "    </tr>\n",
       "    <tr>\n",
       "      <th>mean</th>\n",
       "      <td>1602.107109</td>\n",
       "      <td>2.589227</td>\n",
       "      <td>116.915677</td>\n",
       "      <td>2.678568</td>\n",
       "      <td>6485.399600</td>\n",
       "    </tr>\n",
       "    <tr>\n",
       "      <th>std</th>\n",
       "      <td>1281.358219</td>\n",
       "      <td>1.130218</td>\n",
       "      <td>412.790534</td>\n",
       "      <td>1.036727</td>\n",
       "      <td>9267.831493</td>\n",
       "    </tr>\n",
       "    <tr>\n",
       "      <th>min</th>\n",
       "      <td>250.000000</td>\n",
       "      <td>1.000000</td>\n",
       "      <td>8.000000</td>\n",
       "      <td>1.000000</td>\n",
       "      <td>267.829813</td>\n",
       "    </tr>\n",
       "    <tr>\n",
       "      <th>25%</th>\n",
       "      <td>1113.060000</td>\n",
       "      <td>2.000000</td>\n",
       "      <td>50.000000</td>\n",
       "      <td>2.000000</td>\n",
       "      <td>4252.368499</td>\n",
       "    </tr>\n",
       "    <tr>\n",
       "      <th>50%</th>\n",
       "      <td>1305.000000</td>\n",
       "      <td>2.000000</td>\n",
       "      <td>70.000000</td>\n",
       "      <td>3.000000</td>\n",
       "      <td>5348.837209</td>\n",
       "    </tr>\n",
       "    <tr>\n",
       "      <th>75%</th>\n",
       "      <td>1711.500000</td>\n",
       "      <td>3.000000</td>\n",
       "      <td>120.000000</td>\n",
       "      <td>3.000000</td>\n",
       "      <td>7005.811684</td>\n",
       "    </tr>\n",
       "    <tr>\n",
       "      <th>max</th>\n",
       "      <td>52272.000000</td>\n",
       "      <td>27.000000</td>\n",
       "      <td>42278.000000</td>\n",
       "      <td>27.000000</td>\n",
       "      <td>912343.547691</td>\n",
       "    </tr>\n",
       "  </tbody>\n",
       "</table>\n",
       "</div>"
      ],
      "text/plain": [
       "         total_sqft          bath         price           bhk  price_per_sqft\n",
       "count  12127.000000  12127.000000  12127.000000  12127.000000    12127.000000\n",
       "mean    1602.107109      2.589227    116.915677      2.678568     6485.399600\n",
       "std     1281.358219      1.130218    412.790534      1.036727     9267.831493\n",
       "min      250.000000      1.000000      8.000000      1.000000      267.829813\n",
       "25%     1113.060000      2.000000     50.000000      2.000000     4252.368499\n",
       "50%     1305.000000      2.000000     70.000000      3.000000     5348.837209\n",
       "75%     1711.500000      3.000000    120.000000      3.000000     7005.811684\n",
       "max    52272.000000     27.000000  42278.000000     27.000000   912343.547691"
      ]
     },
     "execution_count": 49,
     "metadata": {},
     "output_type": "execute_result"
    }
   ],
   "source": [
    "df.describe()"
   ]
  },
  {
   "cell_type": "markdown",
   "id": "fadc1f07",
   "metadata": {},
   "source": [
    "countplot for price_per_sqft\n"
   ]
  },
  {
   "cell_type": "code",
   "execution_count": 50,
   "id": "f6b594c6",
   "metadata": {},
   "outputs": [
    {
     "name": "stdout",
     "output_type": "stream",
     "text": [
      "5000.000000     138\n",
      "4000.000000     120\n",
      "6666.666667      67\n",
      "10000.000000     58\n",
      "6250.000000      57\n",
      "               ... \n",
      "9057.971014       1\n",
      "15659.955257      1\n",
      "9645.061728       1\n",
      "7573.529412       1\n",
      "10407.336319      1\n",
      "Name: price_per_sqft, Length: 7456, dtype: int64\n"
     ]
    }
   ],
   "source": [
    "price_per_sqft_counts = df['price_per_sqft'].value_counts()\n",
    "\n",
    "print(price_per_sqft_counts)"
   ]
  },
  {
   "cell_type": "markdown",
   "id": "7325c981",
   "metadata": {},
   "source": [
    "visualization for the outliers in price_per_sqft feture"
   ]
  },
  {
   "cell_type": "code",
   "execution_count": 51,
   "id": "e27d3000",
   "metadata": {},
   "outputs": [
    {
     "data": {
      "image/png": "[encoded data removed]",
      "text/plain": [
       "<Figure size 1400x1000 with 1 Axes>"
      ]
     },
     "metadata": {},
     "output_type": "display_data"
    }
   ],
   "source": [
    "plt.figure(figsize=(14, 10))\n",
    "plt.boxplot(df['price_per_sqft'])\n",
    "plt.xlabel('Price per Square Feet')\n",
    "plt.ylabel('Values')\n",
    "plt.show()"
   ]
  },
  {
   "cell_type": "markdown",
   "id": "0aff2831",
   "metadata": {},
   "source": [
    "we will be using z_score to detect the outliers"
   ]
  },
  {
   "cell_type": "code",
   "execution_count": 52,
   "id": "d4d8e0f5",
   "metadata": {},
   "outputs": [
    {
     "name": "stdout",
     "output_type": "stream",
     "text": [
      "                  area_type               location  total_sqft  bath    price  \\\n",
      "1311   Super built-up  Area                  Other      4634.0   4.0  42278.0   \n",
      "2286             Plot  Area                  Other      3200.0   4.0   1200.0   \n",
      "5365         Built-up  Area  Banashankari Stage II      1500.0   2.0    650.0   \n",
      "6194             Plot  Area            Basavangudi      1754.0   6.0    650.0   \n",
      "6421             Plot  Area           Bommenahalli      2940.0   3.0   2250.0   \n",
      "7088         Built-up  Area                  Other       650.0   1.0    500.0   \n",
      "7657         Built-up  Area                  Other       425.0   1.0    750.0   \n",
      "7727   Super built-up  Area                  Other      5422.0   6.0   1900.0   \n",
      "7883   Super built-up  Area                  Other      2000.0   3.0   1063.0   \n",
      "8170   Super built-up  Area                  Other      2750.0   3.0    943.0   \n",
      "8244   Super built-up  Area                  Other      2230.0   4.0    792.0   \n",
      "8398   Super built-up  Area      Bannerghatta Road      2500.0   4.0   1400.0   \n",
      "9195   Super built-up  Area             Whitefield      1496.0   2.0    718.0   \n",
      "9535             Plot  Area           Indira Nagar      2400.0   5.0   1250.0   \n",
      "9737         Built-up  Area                  Other      2100.0   3.0   1000.0   \n",
      "10570            Plot  Area        Electronic City      1800.0   3.0    700.0   \n",
      "11080  Super built-up  Area                  Other      8321.0   5.0   2912.0   \n",
      "12443            Plot  Area                  Other      4350.0   8.0   2600.0   \n",
      "13067            Plot  Area                  Other      7150.0  13.0   3600.0   \n",
      "13200            Plot  Area                  Other      8000.0   6.0   2800.0   \n",
      "13305          Carpet  Area               Hulimavu       500.0   1.0    220.0   \n",
      "\n",
      "       bhk  price_per_sqft  \n",
      "1311     3   912343.547691  \n",
      "2286     4    37500.000000  \n",
      "5365     4    43333.333333  \n",
      "6194     6    37058.152794  \n",
      "6421     4    76530.612245  \n",
      "7088     1    76923.076923  \n",
      "7657     1   176470.588235  \n",
      "7727     4    35042.419771  \n",
      "7883     4    53150.000000  \n",
      "8170     3    34290.909091  \n",
      "8244     4    35515.695067  \n",
      "8398     5    56000.000000  \n",
      "9195     3    47994.652406  \n",
      "9535     4    52083.333333  \n",
      "9737     4    47619.047619  \n",
      "10570    4    38888.888889  \n",
      "11080    4    34995.793775  \n",
      "12443    4    59770.114943  \n",
      "13067   10    50349.650350  \n",
      "13200    6    35000.000000  \n",
      "13305    1    44000.000000  \n"
     ]
    }
   ],
   "source": [
    "import pandas as pd\n",
    "import numpy as np\n",
    "\n",
    "z_scores = (df['price_per_sqft'] - df['price_per_sqft'].mean()) / df['price_per_sqft'].std()\n",
    "outliers = df[(np.abs(z_scores) > 3) | (z_scores < -3)]\n",
    "\n",
    "print(outliers)\n"
   ]
  },
  {
   "cell_type": "code",
   "execution_count": 53,
   "id": "85788d5f",
   "metadata": {},
   "outputs": [],
   "source": [
    "df.drop(outliers.index, inplace = True)"
   ]
  },
  {
   "cell_type": "code",
   "execution_count": 54,
   "id": "f8360da7",
   "metadata": {},
   "outputs": [
    {
     "data": {
      "text/html": [
       "<div>\n",
       "<style scoped>\n",
       "    .dataframe tbody tr th:only-of-type {\n",
       "        vertical-align: middle;\n",
       "    }\n",
       "\n",
       "    .dataframe tbody tr th {\n",
       "        vertical-align: top;\n",
       "    }\n",
       "\n",
       "    .dataframe thead th {\n",
       "        text-align: right;\n",
       "    }\n",
       "</style>\n",
       "<table border=\"1\" class=\"dataframe\">\n",
       "  <thead>\n",
       "    <tr style=\"text-align: right;\">\n",
       "      <th></th>\n",
       "      <th>total_sqft</th>\n",
       "      <th>bath</th>\n",
       "      <th>price</th>\n",
       "      <th>bhk</th>\n",
       "      <th>price_per_sqft</th>\n",
       "    </tr>\n",
       "  </thead>\n",
       "  <tbody>\n",
       "    <tr>\n",
       "      <th>count</th>\n",
       "      <td>12106.000000</td>\n",
       "      <td>12106.000000</td>\n",
       "      <td>12106.000000</td>\n",
       "      <td>12106.000000</td>\n",
       "      <td>12106.000000</td>\n",
       "    </tr>\n",
       "    <tr>\n",
       "      <th>mean</th>\n",
       "      <td>1599.424327</td>\n",
       "      <td>2.586532</td>\n",
       "      <td>111.321693</td>\n",
       "      <td>2.676359</td>\n",
       "      <td>6332.692973</td>\n",
       "    </tr>\n",
       "    <tr>\n",
       "      <th>std</th>\n",
       "      <td>1277.312947</td>\n",
       "      <td>1.123822</td>\n",
       "      <td>140.367057</td>\n",
       "      <td>1.033274</td>\n",
       "      <td>3604.291157</td>\n",
       "    </tr>\n",
       "    <tr>\n",
       "      <th>min</th>\n",
       "      <td>250.000000</td>\n",
       "      <td>1.000000</td>\n",
       "      <td>8.000000</td>\n",
       "      <td>1.000000</td>\n",
       "      <td>267.829813</td>\n",
       "    </tr>\n",
       "    <tr>\n",
       "      <th>25%</th>\n",
       "      <td>1113.000000</td>\n",
       "      <td>2.000000</td>\n",
       "      <td>50.000000</td>\n",
       "      <td>2.000000</td>\n",
       "      <td>4251.330967</td>\n",
       "    </tr>\n",
       "    <tr>\n",
       "      <th>50%</th>\n",
       "      <td>1304.000000</td>\n",
       "      <td>2.000000</td>\n",
       "      <td>70.000000</td>\n",
       "      <td>3.000000</td>\n",
       "      <td>5342.356021</td>\n",
       "    </tr>\n",
       "    <tr>\n",
       "      <th>75%</th>\n",
       "      <td>1710.000000</td>\n",
       "      <td>3.000000</td>\n",
       "      <td>120.000000</td>\n",
       "      <td>3.000000</td>\n",
       "      <td>7000.000000</td>\n",
       "    </tr>\n",
       "    <tr>\n",
       "      <th>max</th>\n",
       "      <td>52272.000000</td>\n",
       "      <td>27.000000</td>\n",
       "      <td>2736.000000</td>\n",
       "      <td>27.000000</td>\n",
       "      <td>34050.179211</td>\n",
       "    </tr>\n",
       "  </tbody>\n",
       "</table>\n",
       "</div>"
      ],
      "text/plain": [
       "         total_sqft          bath         price           bhk  price_per_sqft\n",
       "count  12106.000000  12106.000000  12106.000000  12106.000000    12106.000000\n",
       "mean    1599.424327      2.586532    111.321693      2.676359     6332.692973\n",
       "std     1277.312947      1.123822    140.367057      1.033274     3604.291157\n",
       "min      250.000000      1.000000      8.000000      1.000000      267.829813\n",
       "25%     1113.000000      2.000000     50.000000      2.000000     4251.330967\n",
       "50%     1304.000000      2.000000     70.000000      3.000000     5342.356021\n",
       "75%     1710.000000      3.000000    120.000000      3.000000     7000.000000\n",
       "max    52272.000000     27.000000   2736.000000     27.000000    34050.179211"
      ]
     },
     "execution_count": 54,
     "metadata": {},
     "output_type": "execute_result"
    }
   ],
   "source": [
    "df.describe()"
   ]
  },
  {
   "cell_type": "code",
   "execution_count": 55,
   "id": "7d7972db",
   "metadata": {
    "scrolled": true
   },
   "outputs": [
    {
     "name": "stdout",
     "output_type": "stream",
     "text": [
      "<class 'pandas.core.frame.DataFrame'>\n",
      "Int64Index: 12106 entries, 0 to 13318\n",
      "Data columns (total 7 columns):\n",
      " #   Column          Non-Null Count  Dtype  \n",
      "---  ------          --------------  -----  \n",
      " 0   area_type       12106 non-null  object \n",
      " 1   location        12106 non-null  object \n",
      " 2   total_sqft      12106 non-null  float64\n",
      " 3   bath            12106 non-null  float64\n",
      " 4   price           12106 non-null  float64\n",
      " 5   bhk             12106 non-null  int64  \n",
      " 6   price_per_sqft  12106 non-null  float64\n",
      "dtypes: float64(4), int64(1), object(2)\n",
      "memory usage: 756.6+ KB\n"
     ]
    }
   ],
   "source": [
    "df.info()"
   ]
  },
  {
   "cell_type": "markdown",
   "id": "293f80f0",
   "metadata": {},
   "source": [
    "now we can remove the price_per_sqft  "
   ]
  },
  {
   "cell_type": "code",
   "execution_count": 56,
   "id": "6599d625",
   "metadata": {
    "scrolled": true
   },
   "outputs": [
    {
     "data": {
      "text/plain": [
       "count    12106.000000\n",
       "mean         2.676359\n",
       "std          1.033274\n",
       "min          1.000000\n",
       "25%          2.000000\n",
       "50%          3.000000\n",
       "75%          3.000000\n",
       "max         27.000000\n",
       "Name: bhk, dtype: float64"
      ]
     },
     "execution_count": 56,
     "metadata": {},
     "output_type": "execute_result"
    }
   ],
   "source": [
    "df['bhk'].describe()"
   ]
  },
  {
   "cell_type": "markdown",
   "id": "c1849d34",
   "metadata": {},
   "source": [
    "Now we will explore the number of bathroom feature. Usually for 2 bedroom we have 2 or 3 bathrooms, more than that is highly unlikely."
   ]
  },
  {
   "cell_type": "code",
   "execution_count": 57,
   "id": "1bb4c146",
   "metadata": {},
   "outputs": [
    {
     "data": {
      "text/plain": [
       "array([ 2.        ,  5.        ,  3.        ,  4.        ,  1.        ,\n",
       "        2.69258644,  8.        ,  6.        ,  7.        ,  9.        ,\n",
       "       14.        , 27.        , 12.        , 16.        , 10.        ,\n",
       "       13.        ])"
      ]
     },
     "execution_count": 57,
     "metadata": {},
     "output_type": "execute_result"
    }
   ],
   "source": [
    "df.bath.unique()"
   ]
  },
  {
   "cell_type": "code",
   "execution_count": 58,
   "id": "7820858c",
   "metadata": {
    "scrolled": false
   },
   "outputs": [
    {
     "data": {
      "image/png": "[encoded data removed]",
      "text/plain": [
       "<Figure size 800x600 with 1 Axes>"
      ]
     },
     "metadata": {},
     "output_type": "display_data"
    }
   ],
   "source": [
    "plt.figure(figsize=(8, 6))\n",
    "\n",
    "plt.scatter(df['bhk'], df['bath'])\n",
    "plt.xlabel('BHK (Number of Bedrooms)')\n",
    "plt.ylabel('Bathrooms')\n",
    "plt.title('BHK vs Bathrooms')\n",
    "\n",
    "# Display the plot\n",
    "plt.show()"
   ]
  },
  {
   "cell_type": "code",
   "execution_count": 59,
   "id": "4ac7db19",
   "metadata": {
    "scrolled": true
   },
   "outputs": [
    {
     "data": {
      "text/html": [
       "<div>\n",
       "<style scoped>\n",
       "    .dataframe tbody tr th:only-of-type {\n",
       "        vertical-align: middle;\n",
       "    }\n",
       "\n",
       "    .dataframe tbody tr th {\n",
       "        vertical-align: top;\n",
       "    }\n",
       "\n",
       "    .dataframe thead th {\n",
       "        text-align: right;\n",
       "    }\n",
       "</style>\n",
       "<table border=\"1\" class=\"dataframe\">\n",
       "  <thead>\n",
       "    <tr style=\"text-align: right;\">\n",
       "      <th></th>\n",
       "      <th>area_type</th>\n",
       "      <th>location</th>\n",
       "      <th>total_sqft</th>\n",
       "      <th>bath</th>\n",
       "      <th>price</th>\n",
       "      <th>bhk</th>\n",
       "      <th>price_per_sqft</th>\n",
       "    </tr>\n",
       "  </thead>\n",
       "  <tbody>\n",
       "    <tr>\n",
       "      <th>1078</th>\n",
       "      <td>Plot  Area</td>\n",
       "      <td>Other</td>\n",
       "      <td>3300.0</td>\n",
       "      <td>14.0</td>\n",
       "      <td>500.0</td>\n",
       "      <td>9</td>\n",
       "      <td>15151.515152</td>\n",
       "    </tr>\n",
       "    <tr>\n",
       "      <th>2620</th>\n",
       "      <td>Super built-up  Area</td>\n",
       "      <td>Other</td>\n",
       "      <td>11338.0</td>\n",
       "      <td>9.0</td>\n",
       "      <td>1000.0</td>\n",
       "      <td>6</td>\n",
       "      <td>8819.897689</td>\n",
       "    </tr>\n",
       "    <tr>\n",
       "      <th>6838</th>\n",
       "      <td>Super built-up  Area</td>\n",
       "      <td>Rajaji Nagar</td>\n",
       "      <td>7500.0</td>\n",
       "      <td>8.0</td>\n",
       "      <td>1700.0</td>\n",
       "      <td>5</td>\n",
       "      <td>22666.666667</td>\n",
       "    </tr>\n",
       "    <tr>\n",
       "      <th>6937</th>\n",
       "      <td>Plot  Area</td>\n",
       "      <td>5th Block Hbr Layout</td>\n",
       "      <td>2600.0</td>\n",
       "      <td>12.0</td>\n",
       "      <td>675.0</td>\n",
       "      <td>9</td>\n",
       "      <td>25961.538462</td>\n",
       "    </tr>\n",
       "    <tr>\n",
       "      <th>7709</th>\n",
       "      <td>Built-up  Area</td>\n",
       "      <td>Chikkabanavar</td>\n",
       "      <td>2460.0</td>\n",
       "      <td>7.0</td>\n",
       "      <td>80.0</td>\n",
       "      <td>4</td>\n",
       "      <td>3252.032520</td>\n",
       "    </tr>\n",
       "    <tr>\n",
       "      <th>9974</th>\n",
       "      <td>Plot  Area</td>\n",
       "      <td>Other</td>\n",
       "      <td>2400.0</td>\n",
       "      <td>6.0</td>\n",
       "      <td>775.0</td>\n",
       "      <td>3</td>\n",
       "      <td>32291.666667</td>\n",
       "    </tr>\n",
       "    <tr>\n",
       "      <th>11366</th>\n",
       "      <td>Built-up  Area</td>\n",
       "      <td>Nagasandra</td>\n",
       "      <td>7000.0</td>\n",
       "      <td>8.0</td>\n",
       "      <td>450.0</td>\n",
       "      <td>4</td>\n",
       "      <td>6428.571429</td>\n",
       "    </tr>\n",
       "    <tr>\n",
       "      <th>11645</th>\n",
       "      <td>Plot  Area</td>\n",
       "      <td>Chamrajpet</td>\n",
       "      <td>1500.0</td>\n",
       "      <td>9.0</td>\n",
       "      <td>230.0</td>\n",
       "      <td>6</td>\n",
       "      <td>15333.333333</td>\n",
       "    </tr>\n",
       "    <tr>\n",
       "      <th>12103</th>\n",
       "      <td>Super built-up  Area</td>\n",
       "      <td>Thanisandra</td>\n",
       "      <td>1806.0</td>\n",
       "      <td>6.0</td>\n",
       "      <td>116.0</td>\n",
       "      <td>3</td>\n",
       "      <td>6423.034330</td>\n",
       "    </tr>\n",
       "  </tbody>\n",
       "</table>\n",
       "</div>"
      ],
      "text/plain": [
       "                  area_type              location  total_sqft  bath   price  \\\n",
       "1078             Plot  Area                 Other      3300.0  14.0   500.0   \n",
       "2620   Super built-up  Area                 Other     11338.0   9.0  1000.0   \n",
       "6838   Super built-up  Area          Rajaji Nagar      7500.0   8.0  1700.0   \n",
       "6937             Plot  Area  5th Block Hbr Layout      2600.0  12.0   675.0   \n",
       "7709         Built-up  Area         Chikkabanavar      2460.0   7.0    80.0   \n",
       "9974             Plot  Area                 Other      2400.0   6.0   775.0   \n",
       "11366        Built-up  Area            Nagasandra      7000.0   8.0   450.0   \n",
       "11645            Plot  Area            Chamrajpet      1500.0   9.0   230.0   \n",
       "12103  Super built-up  Area           Thanisandra      1806.0   6.0   116.0   \n",
       "\n",
       "       bhk  price_per_sqft  \n",
       "1078     9    15151.515152  \n",
       "2620     6     8819.897689  \n",
       "6838     5    22666.666667  \n",
       "6937     9    25961.538462  \n",
       "7709     4     3252.032520  \n",
       "9974     3    32291.666667  \n",
       "11366    4     6428.571429  \n",
       "11645    6    15333.333333  \n",
       "12103    3     6423.034330  "
      ]
     },
     "execution_count": 59,
     "metadata": {},
     "output_type": "execute_result"
    }
   ],
   "source": [
    "df[df.bath>df.bhk+2]"
   ]
  },
  {
   "cell_type": "code",
   "execution_count": 60,
   "id": "4e137227",
   "metadata": {},
   "outputs": [],
   "source": [
    "df = df[df.bath<df.bhk+2]"
   ]
  },
  {
   "cell_type": "code",
   "execution_count": 61,
   "id": "6aae5194",
   "metadata": {
    "scrolled": false
   },
   "outputs": [
    {
     "name": "stdout",
     "output_type": "stream",
     "text": [
      "<class 'pandas.core.frame.DataFrame'>\n",
      "Int64Index: 11955 entries, 0 to 13318\n",
      "Data columns (total 7 columns):\n",
      " #   Column          Non-Null Count  Dtype  \n",
      "---  ------          --------------  -----  \n",
      " 0   area_type       11955 non-null  object \n",
      " 1   location        11955 non-null  object \n",
      " 2   total_sqft      11955 non-null  float64\n",
      " 3   bath            11955 non-null  float64\n",
      " 4   price           11955 non-null  float64\n",
      " 5   bhk             11955 non-null  int64  \n",
      " 6   price_per_sqft  11955 non-null  float64\n",
      "dtypes: float64(4), int64(1), object(2)\n",
      "memory usage: 747.2+ KB\n"
     ]
    }
   ],
   "source": [
    "df.info()"
   ]
  },
  {
   "cell_type": "markdown",
   "id": "a3b313f6",
   "metadata": {},
   "source": [
    "Use onehot encoding for location feature"
   ]
  },
  {
   "cell_type": "code",
   "execution_count": 62,
   "id": "f7974db9",
   "metadata": {
    "scrolled": true
   },
   "outputs": [
    {
     "data": {
      "text/html": [
       "<div>\n",
       "<style scoped>\n",
       "    .dataframe tbody tr th:only-of-type {\n",
       "        vertical-align: middle;\n",
       "    }\n",
       "\n",
       "    .dataframe tbody tr th {\n",
       "        vertical-align: top;\n",
       "    }\n",
       "\n",
       "    .dataframe thead th {\n",
       "        text-align: right;\n",
       "    }\n",
       "</style>\n",
       "<table border=\"1\" class=\"dataframe\">\n",
       "  <thead>\n",
       "    <tr style=\"text-align: right;\">\n",
       "      <th></th>\n",
       "      <th>area_type</th>\n",
       "      <th>location</th>\n",
       "      <th>total_sqft</th>\n",
       "      <th>bath</th>\n",
       "      <th>price</th>\n",
       "      <th>bhk</th>\n",
       "      <th>price_per_sqft</th>\n",
       "      <th>Anekal</th>\n",
       "      <th>Banaswadi</th>\n",
       "      <th>Basavangudi</th>\n",
       "      <th>...</th>\n",
       "      <th>Vittasandra</th>\n",
       "      <th>Whietfield,</th>\n",
       "      <th>Whitefield</th>\n",
       "      <th>Whitefield,</th>\n",
       "      <th>Yelachenahalli</th>\n",
       "      <th>Yelahanka</th>\n",
       "      <th>Yelahanka New Town</th>\n",
       "      <th>Yelenahalli</th>\n",
       "      <th>Yemlur, Old Airport Road,</th>\n",
       "      <th>Yeshwanthpur</th>\n",
       "    </tr>\n",
       "  </thead>\n",
       "  <tbody>\n",
       "    <tr>\n",
       "      <th>0</th>\n",
       "      <td>Super built-up  Area</td>\n",
       "      <td>Electronic City Phase II</td>\n",
       "      <td>1056.0</td>\n",
       "      <td>2.0</td>\n",
       "      <td>39.07</td>\n",
       "      <td>2</td>\n",
       "      <td>3699.810606</td>\n",
       "      <td>0</td>\n",
       "      <td>0</td>\n",
       "      <td>0</td>\n",
       "      <td>...</td>\n",
       "      <td>0</td>\n",
       "      <td>0</td>\n",
       "      <td>0</td>\n",
       "      <td>0</td>\n",
       "      <td>0</td>\n",
       "      <td>0</td>\n",
       "      <td>0</td>\n",
       "      <td>0</td>\n",
       "      <td>0</td>\n",
       "      <td>0</td>\n",
       "    </tr>\n",
       "    <tr>\n",
       "      <th>1</th>\n",
       "      <td>Plot  Area</td>\n",
       "      <td>Chikka Tirupathi</td>\n",
       "      <td>2600.0</td>\n",
       "      <td>5.0</td>\n",
       "      <td>120.00</td>\n",
       "      <td>4</td>\n",
       "      <td>4615.384615</td>\n",
       "      <td>0</td>\n",
       "      <td>0</td>\n",
       "      <td>0</td>\n",
       "      <td>...</td>\n",
       "      <td>0</td>\n",
       "      <td>0</td>\n",
       "      <td>0</td>\n",
       "      <td>0</td>\n",
       "      <td>0</td>\n",
       "      <td>0</td>\n",
       "      <td>0</td>\n",
       "      <td>0</td>\n",
       "      <td>0</td>\n",
       "      <td>0</td>\n",
       "    </tr>\n",
       "    <tr>\n",
       "      <th>2</th>\n",
       "      <td>Built-up  Area</td>\n",
       "      <td>Uttarahalli</td>\n",
       "      <td>1440.0</td>\n",
       "      <td>2.0</td>\n",
       "      <td>62.00</td>\n",
       "      <td>3</td>\n",
       "      <td>4305.555556</td>\n",
       "      <td>0</td>\n",
       "      <td>0</td>\n",
       "      <td>0</td>\n",
       "      <td>...</td>\n",
       "      <td>0</td>\n",
       "      <td>0</td>\n",
       "      <td>0</td>\n",
       "      <td>0</td>\n",
       "      <td>0</td>\n",
       "      <td>0</td>\n",
       "      <td>0</td>\n",
       "      <td>0</td>\n",
       "      <td>0</td>\n",
       "      <td>0</td>\n",
       "    </tr>\n",
       "    <tr>\n",
       "      <th>3</th>\n",
       "      <td>Super built-up  Area</td>\n",
       "      <td>Lingadheeranahalli</td>\n",
       "      <td>1521.0</td>\n",
       "      <td>3.0</td>\n",
       "      <td>95.00</td>\n",
       "      <td>3</td>\n",
       "      <td>6245.890861</td>\n",
       "      <td>0</td>\n",
       "      <td>0</td>\n",
       "      <td>0</td>\n",
       "      <td>...</td>\n",
       "      <td>0</td>\n",
       "      <td>0</td>\n",
       "      <td>0</td>\n",
       "      <td>0</td>\n",
       "      <td>0</td>\n",
       "      <td>0</td>\n",
       "      <td>0</td>\n",
       "      <td>0</td>\n",
       "      <td>0</td>\n",
       "      <td>0</td>\n",
       "    </tr>\n",
       "    <tr>\n",
       "      <th>4</th>\n",
       "      <td>Super built-up  Area</td>\n",
       "      <td>Kothanur</td>\n",
       "      <td>1200.0</td>\n",
       "      <td>2.0</td>\n",
       "      <td>51.00</td>\n",
       "      <td>2</td>\n",
       "      <td>4250.000000</td>\n",
       "      <td>0</td>\n",
       "      <td>0</td>\n",
       "      <td>0</td>\n",
       "      <td>...</td>\n",
       "      <td>0</td>\n",
       "      <td>0</td>\n",
       "      <td>0</td>\n",
       "      <td>0</td>\n",
       "      <td>0</td>\n",
       "      <td>0</td>\n",
       "      <td>0</td>\n",
       "      <td>0</td>\n",
       "      <td>0</td>\n",
       "      <td>0</td>\n",
       "    </tr>\n",
       "  </tbody>\n",
       "</table>\n",
       "<p>5 rows × 282 columns</p>\n",
       "</div>"
      ],
      "text/plain": [
       "              area_type                  location  total_sqft  bath   price  \\\n",
       "0  Super built-up  Area  Electronic City Phase II      1056.0   2.0   39.07   \n",
       "1            Plot  Area          Chikka Tirupathi      2600.0   5.0  120.00   \n",
       "2        Built-up  Area               Uttarahalli      1440.0   2.0   62.00   \n",
       "3  Super built-up  Area        Lingadheeranahalli      1521.0   3.0   95.00   \n",
       "4  Super built-up  Area                  Kothanur      1200.0   2.0   51.00   \n",
       "\n",
       "   bhk  price_per_sqft   Anekal   Banaswadi   Basavangudi  ...  Vittasandra  \\\n",
       "0    2     3699.810606        0           0             0  ...            0   \n",
       "1    4     4615.384615        0           0             0  ...            0   \n",
       "2    3     4305.555556        0           0             0  ...            0   \n",
       "3    3     6245.890861        0           0             0  ...            0   \n",
       "4    2     4250.000000        0           0             0  ...            0   \n",
       "\n",
       "   Whietfield,   Whitefield  Whitefield,   Yelachenahalli  Yelahanka  \\\n",
       "0             0           0             0               0          0   \n",
       "1             0           0             0               0          0   \n",
       "2             0           0             0               0          0   \n",
       "3             0           0             0               0          0   \n",
       "4             0           0             0               0          0   \n",
       "\n",
       "   Yelahanka New Town  Yelenahalli  Yemlur, Old Airport Road,   Yeshwanthpur  \n",
       "0                   0            0                           0             0  \n",
       "1                   0            0                           0             0  \n",
       "2                   0            0                           0             0  \n",
       "3                   0            0                           0             0  \n",
       "4                   0            0                           0             0  \n",
       "\n",
       "[5 rows x 282 columns]"
      ]
     },
     "execution_count": 62,
     "metadata": {},
     "output_type": "execute_result"
    }
   ],
   "source": [
    "# Perform one-hot encoding on the 'location' column\n",
    "dummies = pd.get_dummies(df['location'])\n",
    "\n",
    "# Concatenate the original DataFrame with the one-hot encoded DataFrame\n",
    "df = pd.concat([df, dummies], axis='columns')\n",
    "\n",
    "# Display the first few rows of the updated DataFrame\n",
    "df.head()"
   ]
  },
  {
   "cell_type": "markdown",
   "id": "3b887c2e",
   "metadata": {},
   "source": [
    "drop location feature"
   ]
  },
  {
   "cell_type": "code",
   "execution_count": 63,
   "id": "7b4749f5",
   "metadata": {
    "scrolled": true
   },
   "outputs": [
    {
     "name": "stdout",
     "output_type": "stream",
     "text": [
      "<class 'pandas.core.frame.DataFrame'>\n",
      "Int64Index: 11955 entries, 0 to 13318\n",
      "Columns: 282 entries, area_type to Yeshwanthpur\n",
      "dtypes: float64(4), int64(1), object(2), uint8(275)\n",
      "memory usage: 3.9+ MB\n"
     ]
    }
   ],
   "source": [
    "df.info()"
   ]
  },
  {
   "cell_type": "markdown",
   "id": "eb9985d1",
   "metadata": {},
   "source": [
    "countplot for price_per_sqft"
   ]
  },
  {
   "cell_type": "code",
   "execution_count": 64,
   "id": "30cc033b",
   "metadata": {},
   "outputs": [
    {
     "data": {
      "text/plain": [
       "Text(0, 0.5, 'Count')"
      ]
     },
     "execution_count": 64,
     "metadata": {},
     "output_type": "execute_result"
    },
    {
     "data": {
      "image/png": "[encoded data removed]",
      "text/plain": [
       "<Figure size 640x480 with 1 Axes>"
      ]
     },
     "metadata": {},
     "output_type": "display_data"
    }
   ],
   "source": [
    "plt.hist(df['price_per_sqft'],rwidth=0.8)\n",
    "plt.xlabel(\"price_per_sqft\")\n",
    "plt.ylabel(\"Count\")"
   ]
  },
  {
   "cell_type": "markdown",
   "id": "3c096d6d",
   "metadata": {},
   "source": [
    "scatter plot for relation between bhk and price"
   ]
  },
  {
   "cell_type": "code",
   "execution_count": 65,
   "id": "f1155428",
   "metadata": {},
   "outputs": [
    {
     "data": {
      "image/png": "[encoded data removed]",
      "text/plain": [
       "<Figure size 800x600 with 1 Axes>"
      ]
     },
     "metadata": {},
     "output_type": "display_data"
    }
   ],
   "source": [
    "plt.figure(figsize=(8, 6))\n",
    "plt.scatter(df['bhk'], df['price'], alpha=0.5)\n",
    "plt.xlabel('Number of bhk')\n",
    "plt.ylabel('Price')\n",
    "plt.title('Relationship between bhk and Price')\n",
    "plt.show()\n"
   ]
  },
  {
   "cell_type": "markdown",
   "id": "8ef14271",
   "metadata": {},
   "source": [
    "here we can clearly see that for some datapoints for less bhk the prices are higher than higher bhk"
   ]
  },
  {
   "cell_type": "markdown",
   "id": "e7e5dc09",
   "metadata": {},
   "source": [
    "# now we will remove datapoints from the dataset where, for the same location, same area_type flat , the price of a given bhk is higher than flats with more bedrooms "
   ]
  },
  {
   "cell_type": "code",
   "execution_count": 66,
   "id": "a9f46087",
   "metadata": {},
   "outputs": [
    {
     "data": {
      "text/plain": [
       "(8455, 282)"
      ]
     },
     "execution_count": 66,
     "metadata": {},
     "output_type": "execute_result"
    }
   ],
   "source": [
    "def remove_bhk_outliers(df):\n",
    "    exclude_indices = np.array([])\n",
    "    for location, location_df in df.groupby('location'):\n",
    "        bhk_stats = {}\n",
    "        for bhk, bhk_df in location_df.groupby('bhk'):\n",
    "            bhk_stats[bhk] = {\n",
    "                'mean': np.mean(bhk_df.price_per_sqft),\n",
    "                'std': np.std(bhk_df.price_per_sqft),\n",
    "                'count': bhk_df.shape[0]\n",
    "            }\n",
    "        for bhk, bhk_df in location_df.groupby('bhk'):\n",
    "            stats = bhk_stats.get(bhk-1)\n",
    "            if stats and stats['count']>5:\n",
    "                exclude_indices = np.append(exclude_indices, bhk_df[bhk_df.price_per_sqft<(stats['mean'])].index.values)\n",
    "    return df.drop(exclude_indices,axis='index')\n",
    "df_new = remove_bhk_outliers(df)\n",
    "# df8 = df7.copy()\n",
    "df_new.shape"
   ]
  },
  {
   "cell_type": "code",
   "execution_count": 67,
   "id": "f573a107",
   "metadata": {},
   "outputs": [
    {
     "data": {
      "text/html": [
       "<div>\n",
       "<style scoped>\n",
       "    .dataframe tbody tr th:only-of-type {\n",
       "        vertical-align: middle;\n",
       "    }\n",
       "\n",
       "    .dataframe tbody tr th {\n",
       "        vertical-align: top;\n",
       "    }\n",
       "\n",
       "    .dataframe thead th {\n",
       "        text-align: right;\n",
       "    }\n",
       "</style>\n",
       "<table border=\"1\" class=\"dataframe\">\n",
       "  <thead>\n",
       "    <tr style=\"text-align: right;\">\n",
       "      <th></th>\n",
       "      <th>area_type</th>\n",
       "      <th>location</th>\n",
       "      <th>total_sqft</th>\n",
       "      <th>bath</th>\n",
       "      <th>price</th>\n",
       "      <th>bhk</th>\n",
       "      <th>price_per_sqft</th>\n",
       "      <th>Anekal</th>\n",
       "      <th>Banaswadi</th>\n",
       "      <th>Basavangudi</th>\n",
       "      <th>...</th>\n",
       "      <th>Vittasandra</th>\n",
       "      <th>Whietfield,</th>\n",
       "      <th>Whitefield</th>\n",
       "      <th>Whitefield,</th>\n",
       "      <th>Yelachenahalli</th>\n",
       "      <th>Yelahanka</th>\n",
       "      <th>Yelahanka New Town</th>\n",
       "      <th>Yelenahalli</th>\n",
       "      <th>Yemlur, Old Airport Road,</th>\n",
       "      <th>Yeshwanthpur</th>\n",
       "    </tr>\n",
       "  </thead>\n",
       "  <tbody>\n",
       "    <tr>\n",
       "      <th>0</th>\n",
       "      <td>Super built-up  Area</td>\n",
       "      <td>Electronic City Phase II</td>\n",
       "      <td>1056.0</td>\n",
       "      <td>2.0</td>\n",
       "      <td>39.07</td>\n",
       "      <td>2</td>\n",
       "      <td>3699.810606</td>\n",
       "      <td>0</td>\n",
       "      <td>0</td>\n",
       "      <td>0</td>\n",
       "      <td>...</td>\n",
       "      <td>0</td>\n",
       "      <td>0</td>\n",
       "      <td>0</td>\n",
       "      <td>0</td>\n",
       "      <td>0</td>\n",
       "      <td>0</td>\n",
       "      <td>0</td>\n",
       "      <td>0</td>\n",
       "      <td>0</td>\n",
       "      <td>0</td>\n",
       "    </tr>\n",
       "    <tr>\n",
       "      <th>2</th>\n",
       "      <td>Built-up  Area</td>\n",
       "      <td>Uttarahalli</td>\n",
       "      <td>1440.0</td>\n",
       "      <td>2.0</td>\n",
       "      <td>62.00</td>\n",
       "      <td>3</td>\n",
       "      <td>4305.555556</td>\n",
       "      <td>0</td>\n",
       "      <td>0</td>\n",
       "      <td>0</td>\n",
       "      <td>...</td>\n",
       "      <td>0</td>\n",
       "      <td>0</td>\n",
       "      <td>0</td>\n",
       "      <td>0</td>\n",
       "      <td>0</td>\n",
       "      <td>0</td>\n",
       "      <td>0</td>\n",
       "      <td>0</td>\n",
       "      <td>0</td>\n",
       "      <td>0</td>\n",
       "    </tr>\n",
       "    <tr>\n",
       "      <th>3</th>\n",
       "      <td>Super built-up  Area</td>\n",
       "      <td>Lingadheeranahalli</td>\n",
       "      <td>1521.0</td>\n",
       "      <td>3.0</td>\n",
       "      <td>95.00</td>\n",
       "      <td>3</td>\n",
       "      <td>6245.890861</td>\n",
       "      <td>0</td>\n",
       "      <td>0</td>\n",
       "      <td>0</td>\n",
       "      <td>...</td>\n",
       "      <td>0</td>\n",
       "      <td>0</td>\n",
       "      <td>0</td>\n",
       "      <td>0</td>\n",
       "      <td>0</td>\n",
       "      <td>0</td>\n",
       "      <td>0</td>\n",
       "      <td>0</td>\n",
       "      <td>0</td>\n",
       "      <td>0</td>\n",
       "    </tr>\n",
       "    <tr>\n",
       "      <th>4</th>\n",
       "      <td>Super built-up  Area</td>\n",
       "      <td>Kothanur</td>\n",
       "      <td>1200.0</td>\n",
       "      <td>2.0</td>\n",
       "      <td>51.00</td>\n",
       "      <td>2</td>\n",
       "      <td>4250.000000</td>\n",
       "      <td>0</td>\n",
       "      <td>0</td>\n",
       "      <td>0</td>\n",
       "      <td>...</td>\n",
       "      <td>0</td>\n",
       "      <td>0</td>\n",
       "      <td>0</td>\n",
       "      <td>0</td>\n",
       "      <td>0</td>\n",
       "      <td>0</td>\n",
       "      <td>0</td>\n",
       "      <td>0</td>\n",
       "      <td>0</td>\n",
       "      <td>0</td>\n",
       "    </tr>\n",
       "    <tr>\n",
       "      <th>6</th>\n",
       "      <td>Super built-up  Area</td>\n",
       "      <td>Old Airport Road</td>\n",
       "      <td>2732.0</td>\n",
       "      <td>4.0</td>\n",
       "      <td>204.00</td>\n",
       "      <td>4</td>\n",
       "      <td>7467.057101</td>\n",
       "      <td>0</td>\n",
       "      <td>0</td>\n",
       "      <td>0</td>\n",
       "      <td>...</td>\n",
       "      <td>0</td>\n",
       "      <td>0</td>\n",
       "      <td>0</td>\n",
       "      <td>0</td>\n",
       "      <td>0</td>\n",
       "      <td>0</td>\n",
       "      <td>0</td>\n",
       "      <td>0</td>\n",
       "      <td>0</td>\n",
       "      <td>0</td>\n",
       "    </tr>\n",
       "  </tbody>\n",
       "</table>\n",
       "<p>5 rows × 282 columns</p>\n",
       "</div>"
      ],
      "text/plain": [
       "              area_type                  location  total_sqft  bath   price  \\\n",
       "0  Super built-up  Area  Electronic City Phase II      1056.0   2.0   39.07   \n",
       "2        Built-up  Area               Uttarahalli      1440.0   2.0   62.00   \n",
       "3  Super built-up  Area        Lingadheeranahalli      1521.0   3.0   95.00   \n",
       "4  Super built-up  Area                  Kothanur      1200.0   2.0   51.00   \n",
       "6  Super built-up  Area          Old Airport Road      2732.0   4.0  204.00   \n",
       "\n",
       "   bhk  price_per_sqft   Anekal   Banaswadi   Basavangudi  ...  Vittasandra  \\\n",
       "0    2     3699.810606        0           0             0  ...            0   \n",
       "2    3     4305.555556        0           0             0  ...            0   \n",
       "3    3     6245.890861        0           0             0  ...            0   \n",
       "4    2     4250.000000        0           0             0  ...            0   \n",
       "6    4     7467.057101        0           0             0  ...            0   \n",
       "\n",
       "   Whietfield,   Whitefield  Whitefield,   Yelachenahalli  Yelahanka  \\\n",
       "0             0           0             0               0          0   \n",
       "2             0           0             0               0          0   \n",
       "3             0           0             0               0          0   \n",
       "4             0           0             0               0          0   \n",
       "6             0           0             0               0          0   \n",
       "\n",
       "   Yelahanka New Town  Yelenahalli  Yemlur, Old Airport Road,   Yeshwanthpur  \n",
       "0                   0            0                           0             0  \n",
       "2                   0            0                           0             0  \n",
       "3                   0            0                           0             0  \n",
       "4                   0            0                           0             0  \n",
       "6                   0            0                           0             0  \n",
       "\n",
       "[5 rows x 282 columns]"
      ]
     },
     "execution_count": 67,
     "metadata": {},
     "output_type": "execute_result"
    }
   ],
   "source": [
    "df_new.head()"
   ]
  },
  {
   "cell_type": "code",
   "execution_count": 68,
   "id": "d897159e",
   "metadata": {},
   "outputs": [
    {
     "data": {
      "text/plain": [
       "(8455, 282)"
      ]
     },
     "execution_count": 68,
     "metadata": {},
     "output_type": "execute_result"
    }
   ],
   "source": [
    "df_new.shape"
   ]
  },
  {
   "cell_type": "code",
   "execution_count": 69,
   "id": "5ee1fbbb",
   "metadata": {},
   "outputs": [],
   "source": [
    "df.drop('price_per_sqft', axis = 1, inplace = True)"
   ]
  },
  {
   "cell_type": "markdown",
   "id": "6c3eb9fd",
   "metadata": {},
   "source": [
    "drop location feature"
   ]
  },
  {
   "cell_type": "code",
   "execution_count": 70,
   "id": "1b190461",
   "metadata": {},
   "outputs": [],
   "source": [
    "df_new.drop('location', axis = 1, inplace = True)"
   ]
  },
  {
   "cell_type": "markdown",
   "id": "eb10b7ce",
   "metadata": {},
   "source": [
    "we will also be droping area_type now as it is not that important for price prediction"
   ]
  },
  {
   "cell_type": "code",
   "execution_count": 71,
   "id": "a2628282",
   "metadata": {},
   "outputs": [],
   "source": [
    "df_new.drop('area_type', axis = 1, inplace = True)"
   ]
  },
  {
   "cell_type": "markdown",
   "id": "494fa734",
   "metadata": {},
   "source": [
    "# split the data into dependent and independent features\n"
   ]
  },
  {
   "cell_type": "code",
   "execution_count": 72,
   "id": "cb4e7eed",
   "metadata": {
    "scrolled": false
   },
   "outputs": [
    {
     "data": {
      "text/html": [
       "<div>\n",
       "<style scoped>\n",
       "    .dataframe tbody tr th:only-of-type {\n",
       "        vertical-align: middle;\n",
       "    }\n",
       "\n",
       "    .dataframe tbody tr th {\n",
       "        vertical-align: top;\n",
       "    }\n",
       "\n",
       "    .dataframe thead th {\n",
       "        text-align: right;\n",
       "    }\n",
       "</style>\n",
       "<table border=\"1\" class=\"dataframe\">\n",
       "  <thead>\n",
       "    <tr style=\"text-align: right;\">\n",
       "      <th></th>\n",
       "      <th>total_sqft</th>\n",
       "      <th>bath</th>\n",
       "      <th>price</th>\n",
       "      <th>bhk</th>\n",
       "      <th>price_per_sqft</th>\n",
       "      <th>Anekal</th>\n",
       "      <th>Banaswadi</th>\n",
       "      <th>Basavangudi</th>\n",
       "      <th>Bhoganhalli</th>\n",
       "      <th>Devarabeesana Halli</th>\n",
       "      <th>...</th>\n",
       "      <th>Vittasandra</th>\n",
       "      <th>Whietfield,</th>\n",
       "      <th>Whitefield</th>\n",
       "      <th>Whitefield,</th>\n",
       "      <th>Yelachenahalli</th>\n",
       "      <th>Yelahanka</th>\n",
       "      <th>Yelahanka New Town</th>\n",
       "      <th>Yelenahalli</th>\n",
       "      <th>Yemlur, Old Airport Road,</th>\n",
       "      <th>Yeshwanthpur</th>\n",
       "    </tr>\n",
       "  </thead>\n",
       "  <tbody>\n",
       "    <tr>\n",
       "      <th>0</th>\n",
       "      <td>1056.0</td>\n",
       "      <td>2.0</td>\n",
       "      <td>39.07</td>\n",
       "      <td>2</td>\n",
       "      <td>3699.810606</td>\n",
       "      <td>0</td>\n",
       "      <td>0</td>\n",
       "      <td>0</td>\n",
       "      <td>0</td>\n",
       "      <td>0</td>\n",
       "      <td>...</td>\n",
       "      <td>0</td>\n",
       "      <td>0</td>\n",
       "      <td>0</td>\n",
       "      <td>0</td>\n",
       "      <td>0</td>\n",
       "      <td>0</td>\n",
       "      <td>0</td>\n",
       "      <td>0</td>\n",
       "      <td>0</td>\n",
       "      <td>0</td>\n",
       "    </tr>\n",
       "    <tr>\n",
       "      <th>2</th>\n",
       "      <td>1440.0</td>\n",
       "      <td>2.0</td>\n",
       "      <td>62.00</td>\n",
       "      <td>3</td>\n",
       "      <td>4305.555556</td>\n",
       "      <td>0</td>\n",
       "      <td>0</td>\n",
       "      <td>0</td>\n",
       "      <td>0</td>\n",
       "      <td>0</td>\n",
       "      <td>...</td>\n",
       "      <td>0</td>\n",
       "      <td>0</td>\n",
       "      <td>0</td>\n",
       "      <td>0</td>\n",
       "      <td>0</td>\n",
       "      <td>0</td>\n",
       "      <td>0</td>\n",
       "      <td>0</td>\n",
       "      <td>0</td>\n",
       "      <td>0</td>\n",
       "    </tr>\n",
       "    <tr>\n",
       "      <th>3</th>\n",
       "      <td>1521.0</td>\n",
       "      <td>3.0</td>\n",
       "      <td>95.00</td>\n",
       "      <td>3</td>\n",
       "      <td>6245.890861</td>\n",
       "      <td>0</td>\n",
       "      <td>0</td>\n",
       "      <td>0</td>\n",
       "      <td>0</td>\n",
       "      <td>0</td>\n",
       "      <td>...</td>\n",
       "      <td>0</td>\n",
       "      <td>0</td>\n",
       "      <td>0</td>\n",
       "      <td>0</td>\n",
       "      <td>0</td>\n",
       "      <td>0</td>\n",
       "      <td>0</td>\n",
       "      <td>0</td>\n",
       "      <td>0</td>\n",
       "      <td>0</td>\n",
       "    </tr>\n",
       "    <tr>\n",
       "      <th>4</th>\n",
       "      <td>1200.0</td>\n",
       "      <td>2.0</td>\n",
       "      <td>51.00</td>\n",
       "      <td>2</td>\n",
       "      <td>4250.000000</td>\n",
       "      <td>0</td>\n",
       "      <td>0</td>\n",
       "      <td>0</td>\n",
       "      <td>0</td>\n",
       "      <td>0</td>\n",
       "      <td>...</td>\n",
       "      <td>0</td>\n",
       "      <td>0</td>\n",
       "      <td>0</td>\n",
       "      <td>0</td>\n",
       "      <td>0</td>\n",
       "      <td>0</td>\n",
       "      <td>0</td>\n",
       "      <td>0</td>\n",
       "      <td>0</td>\n",
       "      <td>0</td>\n",
       "    </tr>\n",
       "    <tr>\n",
       "      <th>6</th>\n",
       "      <td>2732.0</td>\n",
       "      <td>4.0</td>\n",
       "      <td>204.00</td>\n",
       "      <td>4</td>\n",
       "      <td>7467.057101</td>\n",
       "      <td>0</td>\n",
       "      <td>0</td>\n",
       "      <td>0</td>\n",
       "      <td>0</td>\n",
       "      <td>0</td>\n",
       "      <td>...</td>\n",
       "      <td>0</td>\n",
       "      <td>0</td>\n",
       "      <td>0</td>\n",
       "      <td>0</td>\n",
       "      <td>0</td>\n",
       "      <td>0</td>\n",
       "      <td>0</td>\n",
       "      <td>0</td>\n",
       "      <td>0</td>\n",
       "      <td>0</td>\n",
       "    </tr>\n",
       "  </tbody>\n",
       "</table>\n",
       "<p>5 rows × 280 columns</p>\n",
       "</div>"
      ],
      "text/plain": [
       "   total_sqft  bath   price  bhk  price_per_sqft   Anekal   Banaswadi  \\\n",
       "0      1056.0   2.0   39.07    2     3699.810606        0           0   \n",
       "2      1440.0   2.0   62.00    3     4305.555556        0           0   \n",
       "3      1521.0   3.0   95.00    3     6245.890861        0           0   \n",
       "4      1200.0   2.0   51.00    2     4250.000000        0           0   \n",
       "6      2732.0   4.0  204.00    4     7467.057101        0           0   \n",
       "\n",
       "    Basavangudi   Bhoganhalli   Devarabeesana Halli  ...  Vittasandra  \\\n",
       "0             0             0                     0  ...            0   \n",
       "2             0             0                     0  ...            0   \n",
       "3             0             0                     0  ...            0   \n",
       "4             0             0                     0  ...            0   \n",
       "6             0             0                     0  ...            0   \n",
       "\n",
       "   Whietfield,   Whitefield  Whitefield,   Yelachenahalli  Yelahanka  \\\n",
       "0             0           0             0               0          0   \n",
       "2             0           0             0               0          0   \n",
       "3             0           0             0               0          0   \n",
       "4             0           0             0               0          0   \n",
       "6             0           0             0               0          0   \n",
       "\n",
       "   Yelahanka New Town  Yelenahalli  Yemlur, Old Airport Road,   Yeshwanthpur  \n",
       "0                   0            0                           0             0  \n",
       "2                   0            0                           0             0  \n",
       "3                   0            0                           0             0  \n",
       "4                   0            0                           0             0  \n",
       "6                   0            0                           0             0  \n",
       "\n",
       "[5 rows x 280 columns]"
      ]
     },
     "execution_count": 72,
     "metadata": {},
     "output_type": "execute_result"
    }
   ],
   "source": [
    "df_new.head()"
   ]
  },
  {
   "cell_type": "code",
   "execution_count": 73,
   "id": "5bc28236",
   "metadata": {
    "scrolled": true
   },
   "outputs": [
    {
     "data": {
      "text/html": [
       "<div>\n",
       "<style scoped>\n",
       "    .dataframe tbody tr th:only-of-type {\n",
       "        vertical-align: middle;\n",
       "    }\n",
       "\n",
       "    .dataframe tbody tr th {\n",
       "        vertical-align: top;\n",
       "    }\n",
       "\n",
       "    .dataframe thead th {\n",
       "        text-align: right;\n",
       "    }\n",
       "</style>\n",
       "<table border=\"1\" class=\"dataframe\">\n",
       "  <thead>\n",
       "    <tr style=\"text-align: right;\">\n",
       "      <th></th>\n",
       "      <th>total_sqft</th>\n",
       "      <th>bath</th>\n",
       "      <th>bhk</th>\n",
       "      <th>price_per_sqft</th>\n",
       "      <th>Anekal</th>\n",
       "      <th>Banaswadi</th>\n",
       "      <th>Basavangudi</th>\n",
       "      <th>Bhoganhalli</th>\n",
       "      <th>Devarabeesana Halli</th>\n",
       "      <th>Devarachikkanahalli</th>\n",
       "      <th>...</th>\n",
       "      <th>Vittasandra</th>\n",
       "      <th>Whietfield,</th>\n",
       "      <th>Whitefield</th>\n",
       "      <th>Whitefield,</th>\n",
       "      <th>Yelachenahalli</th>\n",
       "      <th>Yelahanka</th>\n",
       "      <th>Yelahanka New Town</th>\n",
       "      <th>Yelenahalli</th>\n",
       "      <th>Yemlur, Old Airport Road,</th>\n",
       "      <th>Yeshwanthpur</th>\n",
       "    </tr>\n",
       "  </thead>\n",
       "  <tbody>\n",
       "    <tr>\n",
       "      <th>0</th>\n",
       "      <td>1056.0</td>\n",
       "      <td>2.0</td>\n",
       "      <td>2</td>\n",
       "      <td>3699.810606</td>\n",
       "      <td>0</td>\n",
       "      <td>0</td>\n",
       "      <td>0</td>\n",
       "      <td>0</td>\n",
       "      <td>0</td>\n",
       "      <td>0</td>\n",
       "      <td>...</td>\n",
       "      <td>0</td>\n",
       "      <td>0</td>\n",
       "      <td>0</td>\n",
       "      <td>0</td>\n",
       "      <td>0</td>\n",
       "      <td>0</td>\n",
       "      <td>0</td>\n",
       "      <td>0</td>\n",
       "      <td>0</td>\n",
       "      <td>0</td>\n",
       "    </tr>\n",
       "    <tr>\n",
       "      <th>2</th>\n",
       "      <td>1440.0</td>\n",
       "      <td>2.0</td>\n",
       "      <td>3</td>\n",
       "      <td>4305.555556</td>\n",
       "      <td>0</td>\n",
       "      <td>0</td>\n",
       "      <td>0</td>\n",
       "      <td>0</td>\n",
       "      <td>0</td>\n",
       "      <td>0</td>\n",
       "      <td>...</td>\n",
       "      <td>0</td>\n",
       "      <td>0</td>\n",
       "      <td>0</td>\n",
       "      <td>0</td>\n",
       "      <td>0</td>\n",
       "      <td>0</td>\n",
       "      <td>0</td>\n",
       "      <td>0</td>\n",
       "      <td>0</td>\n",
       "      <td>0</td>\n",
       "    </tr>\n",
       "    <tr>\n",
       "      <th>3</th>\n",
       "      <td>1521.0</td>\n",
       "      <td>3.0</td>\n",
       "      <td>3</td>\n",
       "      <td>6245.890861</td>\n",
       "      <td>0</td>\n",
       "      <td>0</td>\n",
       "      <td>0</td>\n",
       "      <td>0</td>\n",
       "      <td>0</td>\n",
       "      <td>0</td>\n",
       "      <td>...</td>\n",
       "      <td>0</td>\n",
       "      <td>0</td>\n",
       "      <td>0</td>\n",
       "      <td>0</td>\n",
       "      <td>0</td>\n",
       "      <td>0</td>\n",
       "      <td>0</td>\n",
       "      <td>0</td>\n",
       "      <td>0</td>\n",
       "      <td>0</td>\n",
       "    </tr>\n",
       "    <tr>\n",
       "      <th>4</th>\n",
       "      <td>1200.0</td>\n",
       "      <td>2.0</td>\n",
       "      <td>2</td>\n",
       "      <td>4250.000000</td>\n",
       "      <td>0</td>\n",
       "      <td>0</td>\n",
       "      <td>0</td>\n",
       "      <td>0</td>\n",
       "      <td>0</td>\n",
       "      <td>0</td>\n",
       "      <td>...</td>\n",
       "      <td>0</td>\n",
       "      <td>0</td>\n",
       "      <td>0</td>\n",
       "      <td>0</td>\n",
       "      <td>0</td>\n",
       "      <td>0</td>\n",
       "      <td>0</td>\n",
       "      <td>0</td>\n",
       "      <td>0</td>\n",
       "      <td>0</td>\n",
       "    </tr>\n",
       "    <tr>\n",
       "      <th>6</th>\n",
       "      <td>2732.0</td>\n",
       "      <td>4.0</td>\n",
       "      <td>4</td>\n",
       "      <td>7467.057101</td>\n",
       "      <td>0</td>\n",
       "      <td>0</td>\n",
       "      <td>0</td>\n",
       "      <td>0</td>\n",
       "      <td>0</td>\n",
       "      <td>0</td>\n",
       "      <td>...</td>\n",
       "      <td>0</td>\n",
       "      <td>0</td>\n",
       "      <td>0</td>\n",
       "      <td>0</td>\n",
       "      <td>0</td>\n",
       "      <td>0</td>\n",
       "      <td>0</td>\n",
       "      <td>0</td>\n",
       "      <td>0</td>\n",
       "      <td>0</td>\n",
       "    </tr>\n",
       "  </tbody>\n",
       "</table>\n",
       "<p>5 rows × 279 columns</p>\n",
       "</div>"
      ],
      "text/plain": [
       "   total_sqft  bath  bhk  price_per_sqft   Anekal   Banaswadi   Basavangudi  \\\n",
       "0      1056.0   2.0    2     3699.810606        0           0             0   \n",
       "2      1440.0   2.0    3     4305.555556        0           0             0   \n",
       "3      1521.0   3.0    3     6245.890861        0           0             0   \n",
       "4      1200.0   2.0    2     4250.000000        0           0             0   \n",
       "6      2732.0   4.0    4     7467.057101        0           0             0   \n",
       "\n",
       "    Bhoganhalli   Devarabeesana Halli   Devarachikkanahalli  ...  Vittasandra  \\\n",
       "0             0                     0                     0  ...            0   \n",
       "2             0                     0                     0  ...            0   \n",
       "3             0                     0                     0  ...            0   \n",
       "4             0                     0                     0  ...            0   \n",
       "6             0                     0                     0  ...            0   \n",
       "\n",
       "   Whietfield,   Whitefield  Whitefield,   Yelachenahalli  Yelahanka  \\\n",
       "0             0           0             0               0          0   \n",
       "2             0           0             0               0          0   \n",
       "3             0           0             0               0          0   \n",
       "4             0           0             0               0          0   \n",
       "6             0           0             0               0          0   \n",
       "\n",
       "   Yelahanka New Town  Yelenahalli  Yemlur, Old Airport Road,   Yeshwanthpur  \n",
       "0                   0            0                           0             0  \n",
       "2                   0            0                           0             0  \n",
       "3                   0            0                           0             0  \n",
       "4                   0            0                           0             0  \n",
       "6                   0            0                           0             0  \n",
       "\n",
       "[5 rows x 279 columns]"
      ]
     },
     "execution_count": 73,
     "metadata": {},
     "output_type": "execute_result"
    }
   ],
   "source": [
    "X = df_new.drop(['price'],axis='columns')\n",
    "X.head()"
   ]
  },
  {
   "cell_type": "code",
   "execution_count": 74,
   "id": "5d236836",
   "metadata": {},
   "outputs": [
    {
     "data": {
      "text/plain": [
       "(8455, 279)"
      ]
     },
     "execution_count": 74,
     "metadata": {},
     "output_type": "execute_result"
    }
   ],
   "source": [
    "X.shape"
   ]
  },
  {
   "cell_type": "code",
   "execution_count": 75,
   "id": "af96cb0f",
   "metadata": {
    "scrolled": true
   },
   "outputs": [
    {
     "data": {
      "text/plain": [
       "0    39.07\n",
       "2    62.00\n",
       "3    95.00\n",
       "Name: price, dtype: float64"
      ]
     },
     "execution_count": 75,
     "metadata": {},
     "output_type": "execute_result"
    }
   ],
   "source": [
    "y = df_new.price\n",
    "y.head(3)"
   ]
  },
  {
   "cell_type": "code",
   "execution_count": 76,
   "id": "07bf6a79",
   "metadata": {},
   "outputs": [],
   "source": [
    "# Train, Test Split\n",
    "\n",
    "from sklearn.model_selection import train_test_split\n",
    "X_train, X_test, y_train, y_test = train_test_split(X,y, test_size = 0.3, random_state = 1)"
   ]
  },
  {
   "cell_type": "code",
   "execution_count": 77,
   "id": "3faef591",
   "metadata": {},
   "outputs": [
    {
     "data": {
      "text/html": [
       "<div>\n",
       "<style scoped>\n",
       "    .dataframe tbody tr th:only-of-type {\n",
       "        vertical-align: middle;\n",
       "    }\n",
       "\n",
       "    .dataframe tbody tr th {\n",
       "        vertical-align: top;\n",
       "    }\n",
       "\n",
       "    .dataframe thead th {\n",
       "        text-align: right;\n",
       "    }\n",
       "</style>\n",
       "<table border=\"1\" class=\"dataframe\">\n",
       "  <thead>\n",
       "    <tr style=\"text-align: right;\">\n",
       "      <th></th>\n",
       "      <th>total_sqft</th>\n",
       "      <th>bath</th>\n",
       "      <th>bhk</th>\n",
       "      <th>price_per_sqft</th>\n",
       "      <th>Anekal</th>\n",
       "      <th>Banaswadi</th>\n",
       "      <th>Basavangudi</th>\n",
       "      <th>Bhoganhalli</th>\n",
       "      <th>Devarabeesana Halli</th>\n",
       "      <th>Devarachikkanahalli</th>\n",
       "      <th>...</th>\n",
       "      <th>Vittasandra</th>\n",
       "      <th>Whietfield,</th>\n",
       "      <th>Whitefield</th>\n",
       "      <th>Whitefield,</th>\n",
       "      <th>Yelachenahalli</th>\n",
       "      <th>Yelahanka</th>\n",
       "      <th>Yelahanka New Town</th>\n",
       "      <th>Yelenahalli</th>\n",
       "      <th>Yemlur, Old Airport Road,</th>\n",
       "      <th>Yeshwanthpur</th>\n",
       "    </tr>\n",
       "  </thead>\n",
       "  <tbody>\n",
       "    <tr>\n",
       "      <th>5825</th>\n",
       "      <td>1465.0</td>\n",
       "      <td>3.0</td>\n",
       "      <td>3</td>\n",
       "      <td>5119.453925</td>\n",
       "      <td>0</td>\n",
       "      <td>0</td>\n",
       "      <td>0</td>\n",
       "      <td>0</td>\n",
       "      <td>0</td>\n",
       "      <td>0</td>\n",
       "      <td>...</td>\n",
       "      <td>0</td>\n",
       "      <td>0</td>\n",
       "      <td>0</td>\n",
       "      <td>0</td>\n",
       "      <td>0</td>\n",
       "      <td>0</td>\n",
       "      <td>0</td>\n",
       "      <td>0</td>\n",
       "      <td>0</td>\n",
       "      <td>0</td>\n",
       "    </tr>\n",
       "    <tr>\n",
       "      <th>12791</th>\n",
       "      <td>1122.5</td>\n",
       "      <td>2.0</td>\n",
       "      <td>2</td>\n",
       "      <td>5500.222717</td>\n",
       "      <td>0</td>\n",
       "      <td>0</td>\n",
       "      <td>0</td>\n",
       "      <td>0</td>\n",
       "      <td>0</td>\n",
       "      <td>0</td>\n",
       "      <td>...</td>\n",
       "      <td>0</td>\n",
       "      <td>0</td>\n",
       "      <td>0</td>\n",
       "      <td>0</td>\n",
       "      <td>0</td>\n",
       "      <td>0</td>\n",
       "      <td>0</td>\n",
       "      <td>0</td>\n",
       "      <td>0</td>\n",
       "      <td>0</td>\n",
       "    </tr>\n",
       "    <tr>\n",
       "      <th>10391</th>\n",
       "      <td>930.0</td>\n",
       "      <td>2.0</td>\n",
       "      <td>2</td>\n",
       "      <td>2794.623656</td>\n",
       "      <td>0</td>\n",
       "      <td>0</td>\n",
       "      <td>0</td>\n",
       "      <td>0</td>\n",
       "      <td>0</td>\n",
       "      <td>0</td>\n",
       "      <td>...</td>\n",
       "      <td>0</td>\n",
       "      <td>0</td>\n",
       "      <td>0</td>\n",
       "      <td>0</td>\n",
       "      <td>0</td>\n",
       "      <td>0</td>\n",
       "      <td>0</td>\n",
       "      <td>0</td>\n",
       "      <td>0</td>\n",
       "      <td>0</td>\n",
       "    </tr>\n",
       "    <tr>\n",
       "      <th>1120</th>\n",
       "      <td>1691.0</td>\n",
       "      <td>2.0</td>\n",
       "      <td>3</td>\n",
       "      <td>6031.933767</td>\n",
       "      <td>0</td>\n",
       "      <td>0</td>\n",
       "      <td>0</td>\n",
       "      <td>0</td>\n",
       "      <td>0</td>\n",
       "      <td>0</td>\n",
       "      <td>...</td>\n",
       "      <td>0</td>\n",
       "      <td>0</td>\n",
       "      <td>0</td>\n",
       "      <td>0</td>\n",
       "      <td>0</td>\n",
       "      <td>0</td>\n",
       "      <td>0</td>\n",
       "      <td>0</td>\n",
       "      <td>0</td>\n",
       "      <td>0</td>\n",
       "    </tr>\n",
       "    <tr>\n",
       "      <th>9266</th>\n",
       "      <td>1700.0</td>\n",
       "      <td>3.0</td>\n",
       "      <td>3</td>\n",
       "      <td>14705.882353</td>\n",
       "      <td>0</td>\n",
       "      <td>0</td>\n",
       "      <td>0</td>\n",
       "      <td>0</td>\n",
       "      <td>0</td>\n",
       "      <td>0</td>\n",
       "      <td>...</td>\n",
       "      <td>0</td>\n",
       "      <td>0</td>\n",
       "      <td>0</td>\n",
       "      <td>0</td>\n",
       "      <td>0</td>\n",
       "      <td>0</td>\n",
       "      <td>0</td>\n",
       "      <td>0</td>\n",
       "      <td>0</td>\n",
       "      <td>0</td>\n",
       "    </tr>\n",
       "    <tr>\n",
       "      <th>...</th>\n",
       "      <td>...</td>\n",
       "      <td>...</td>\n",
       "      <td>...</td>\n",
       "      <td>...</td>\n",
       "      <td>...</td>\n",
       "      <td>...</td>\n",
       "      <td>...</td>\n",
       "      <td>...</td>\n",
       "      <td>...</td>\n",
       "      <td>...</td>\n",
       "      <td>...</td>\n",
       "      <td>...</td>\n",
       "      <td>...</td>\n",
       "      <td>...</td>\n",
       "      <td>...</td>\n",
       "      <td>...</td>\n",
       "      <td>...</td>\n",
       "      <td>...</td>\n",
       "      <td>...</td>\n",
       "      <td>...</td>\n",
       "      <td>...</td>\n",
       "    </tr>\n",
       "    <tr>\n",
       "      <th>4389</th>\n",
       "      <td>923.0</td>\n",
       "      <td>2.0</td>\n",
       "      <td>2</td>\n",
       "      <td>5417.118093</td>\n",
       "      <td>0</td>\n",
       "      <td>0</td>\n",
       "      <td>0</td>\n",
       "      <td>0</td>\n",
       "      <td>0</td>\n",
       "      <td>0</td>\n",
       "      <td>...</td>\n",
       "      <td>0</td>\n",
       "      <td>0</td>\n",
       "      <td>0</td>\n",
       "      <td>0</td>\n",
       "      <td>0</td>\n",
       "      <td>0</td>\n",
       "      <td>0</td>\n",
       "      <td>0</td>\n",
       "      <td>0</td>\n",
       "      <td>0</td>\n",
       "    </tr>\n",
       "    <tr>\n",
       "      <th>12284</th>\n",
       "      <td>1615.0</td>\n",
       "      <td>3.0</td>\n",
       "      <td>3</td>\n",
       "      <td>6000.000000</td>\n",
       "      <td>0</td>\n",
       "      <td>0</td>\n",
       "      <td>0</td>\n",
       "      <td>0</td>\n",
       "      <td>0</td>\n",
       "      <td>0</td>\n",
       "      <td>...</td>\n",
       "      <td>0</td>\n",
       "      <td>0</td>\n",
       "      <td>1</td>\n",
       "      <td>0</td>\n",
       "      <td>0</td>\n",
       "      <td>0</td>\n",
       "      <td>0</td>\n",
       "      <td>0</td>\n",
       "      <td>0</td>\n",
       "      <td>0</td>\n",
       "    </tr>\n",
       "    <tr>\n",
       "      <th>1372</th>\n",
       "      <td>1100.0</td>\n",
       "      <td>2.0</td>\n",
       "      <td>2</td>\n",
       "      <td>3636.363636</td>\n",
       "      <td>0</td>\n",
       "      <td>0</td>\n",
       "      <td>0</td>\n",
       "      <td>0</td>\n",
       "      <td>0</td>\n",
       "      <td>0</td>\n",
       "      <td>...</td>\n",
       "      <td>0</td>\n",
       "      <td>0</td>\n",
       "      <td>0</td>\n",
       "      <td>0</td>\n",
       "      <td>0</td>\n",
       "      <td>0</td>\n",
       "      <td>0</td>\n",
       "      <td>0</td>\n",
       "      <td>0</td>\n",
       "      <td>0</td>\n",
       "    </tr>\n",
       "    <tr>\n",
       "      <th>8057</th>\n",
       "      <td>3200.0</td>\n",
       "      <td>4.0</td>\n",
       "      <td>4</td>\n",
       "      <td>11718.750000</td>\n",
       "      <td>0</td>\n",
       "      <td>0</td>\n",
       "      <td>0</td>\n",
       "      <td>0</td>\n",
       "      <td>0</td>\n",
       "      <td>0</td>\n",
       "      <td>...</td>\n",
       "      <td>0</td>\n",
       "      <td>0</td>\n",
       "      <td>0</td>\n",
       "      <td>0</td>\n",
       "      <td>0</td>\n",
       "      <td>0</td>\n",
       "      <td>0</td>\n",
       "      <td>0</td>\n",
       "      <td>0</td>\n",
       "      <td>0</td>\n",
       "    </tr>\n",
       "    <tr>\n",
       "      <th>364</th>\n",
       "      <td>1075.0</td>\n",
       "      <td>2.0</td>\n",
       "      <td>2</td>\n",
       "      <td>4837.209302</td>\n",
       "      <td>0</td>\n",
       "      <td>0</td>\n",
       "      <td>0</td>\n",
       "      <td>0</td>\n",
       "      <td>0</td>\n",
       "      <td>0</td>\n",
       "      <td>...</td>\n",
       "      <td>0</td>\n",
       "      <td>0</td>\n",
       "      <td>0</td>\n",
       "      <td>0</td>\n",
       "      <td>0</td>\n",
       "      <td>0</td>\n",
       "      <td>0</td>\n",
       "      <td>0</td>\n",
       "      <td>0</td>\n",
       "      <td>0</td>\n",
       "    </tr>\n",
       "  </tbody>\n",
       "</table>\n",
       "<p>5918 rows × 279 columns</p>\n",
       "</div>"
      ],
      "text/plain": [
       "       total_sqft  bath  bhk  price_per_sqft   Anekal   Banaswadi  \\\n",
       "5825       1465.0   3.0    3     5119.453925        0           0   \n",
       "12791      1122.5   2.0    2     5500.222717        0           0   \n",
       "10391       930.0   2.0    2     2794.623656        0           0   \n",
       "1120       1691.0   2.0    3     6031.933767        0           0   \n",
       "9266       1700.0   3.0    3    14705.882353        0           0   \n",
       "...           ...   ...  ...             ...      ...         ...   \n",
       "4389        923.0   2.0    2     5417.118093        0           0   \n",
       "12284      1615.0   3.0    3     6000.000000        0           0   \n",
       "1372       1100.0   2.0    2     3636.363636        0           0   \n",
       "8057       3200.0   4.0    4    11718.750000        0           0   \n",
       "364        1075.0   2.0    2     4837.209302        0           0   \n",
       "\n",
       "        Basavangudi   Bhoganhalli   Devarabeesana Halli   Devarachikkanahalli  \\\n",
       "5825              0             0                     0                     0   \n",
       "12791             0             0                     0                     0   \n",
       "10391             0             0                     0                     0   \n",
       "1120              0             0                     0                     0   \n",
       "9266              0             0                     0                     0   \n",
       "...             ...           ...                   ...                   ...   \n",
       "4389              0             0                     0                     0   \n",
       "12284             0             0                     0                     0   \n",
       "1372              0             0                     0                     0   \n",
       "8057              0             0                     0                     0   \n",
       "364               0             0                     0                     0   \n",
       "\n",
       "       ...  Vittasandra  Whietfield,   Whitefield  Whitefield,   \\\n",
       "5825   ...            0             0           0             0   \n",
       "12791  ...            0             0           0             0   \n",
       "10391  ...            0             0           0             0   \n",
       "1120   ...            0             0           0             0   \n",
       "9266   ...            0             0           0             0   \n",
       "...    ...          ...           ...         ...           ...   \n",
       "4389   ...            0             0           0             0   \n",
       "12284  ...            0             0           1             0   \n",
       "1372   ...            0             0           0             0   \n",
       "8057   ...            0             0           0             0   \n",
       "364    ...            0             0           0             0   \n",
       "\n",
       "       Yelachenahalli  Yelahanka  Yelahanka New Town  Yelenahalli  \\\n",
       "5825                0          0                   0            0   \n",
       "12791               0          0                   0            0   \n",
       "10391               0          0                   0            0   \n",
       "1120                0          0                   0            0   \n",
       "9266                0          0                   0            0   \n",
       "...               ...        ...                 ...          ...   \n",
       "4389                0          0                   0            0   \n",
       "12284               0          0                   0            0   \n",
       "1372                0          0                   0            0   \n",
       "8057                0          0                   0            0   \n",
       "364                 0          0                   0            0   \n",
       "\n",
       "       Yemlur, Old Airport Road,   Yeshwanthpur  \n",
       "5825                            0             0  \n",
       "12791                           0             0  \n",
       "10391                           0             0  \n",
       "1120                            0             0  \n",
       "9266                            0             0  \n",
       "...                           ...           ...  \n",
       "4389                            0             0  \n",
       "12284                           0             0  \n",
       "1372                            0             0  \n",
       "8057                            0             0  \n",
       "364                             0             0  \n",
       "\n",
       "[5918 rows x 279 columns]"
      ]
     },
     "execution_count": 77,
     "metadata": {},
     "output_type": "execute_result"
    }
   ],
   "source": [
    "X_train"
   ]
  },
  {
   "cell_type": "code",
   "execution_count": 78,
   "id": "38d9ecf6",
   "metadata": {
    "scrolled": true
   },
   "outputs": [
    {
     "data": {
      "text/plain": [
       "5825      75.00\n",
       "12791     61.74\n",
       "10391     25.99\n",
       "1120     102.00\n",
       "9266     250.00\n",
       "          ...  \n",
       "4389      50.00\n",
       "12284     96.90\n",
       "1372      40.00\n",
       "8057     375.00\n",
       "364       52.00\n",
       "Name: price, Length: 5918, dtype: float64"
      ]
     },
     "execution_count": 78,
     "metadata": {},
     "output_type": "execute_result"
    }
   ],
   "source": [
    "y_train"
   ]
  },
  {
   "cell_type": "markdown",
   "id": "7644d38e",
   "metadata": {},
   "source": [
    "# Model Training"
   ]
  },
  {
   "cell_type": "code",
   "execution_count": 79,
   "id": "6972de4b",
   "metadata": {},
   "outputs": [
    {
     "data": {
      "text/html": [
       "<style>#sk-container-id-1 {color: black;background-color: white;}#sk-container-id-1 pre{padding: 0;}#sk-container-id-1 div.sk-toggleable {background-color: white;}#sk-container-id-1 label.sk-toggleable__label {cursor: pointer;display: block;width: 100%;margin-bottom: 0;padding: 0.3em;box-sizing: border-box;text-align: center;}#sk-container-id-1 label.sk-toggleable__label-arrow:before {content: \"▸\";float: left;margin-right: 0.25em;color: #696969;}#sk-container-id-1 label.sk-toggleable__label-arrow:hover:before {color: black;}#sk-container-id-1 div.sk-estimator:hover label.sk-toggleable__label-arrow:before {color: black;}#sk-container-id-1 div.sk-toggleable__content {max-height: 0;max-width: 0;overflow: hidden;text-align: left;background-color: #f0f8ff;}#sk-container-id-1 div.sk-toggleable__content pre {margin: 0.2em;color: black;border-radius: 0.25em;background-color: #f0f8ff;}#sk-container-id-1 input.sk-toggleable__control:checked~div.sk-toggleable__content {max-height: 200px;max-width: 100%;overflow: auto;}#sk-container-id-1 input.sk-toggleable__control:checked~label.sk-toggleable__label-arrow:before {content: \"▾\";}#sk-container-id-1 div.sk-estimator input.sk-toggleable__control:checked~label.sk-toggleable__label {background-color: #d4ebff;}#sk-container-id-1 div.sk-label input.sk-toggleable__control:checked~label.sk-toggleable__label {background-color: #d4ebff;}#sk-container-id-1 input.sk-hidden--visually {border: 0;clip: rect(1px 1px 1px 1px);clip: rect(1px, 1px, 1px, 1px);height: 1px;margin: -1px;overflow: hidden;padding: 0;position: absolute;width: 1px;}#sk-container-id-1 div.sk-estimator {font-family: monospace;background-color: #f0f8ff;border: 1px dotted black;border-radius: 0.25em;box-sizing: border-box;margin-bottom: 0.5em;}#sk-container-id-1 div.sk-estimator:hover {background-color: #d4ebff;}#sk-container-id-1 div.sk-parallel-item::after {content: \"\";width: 100%;border-bottom: 1px solid gray;flex-grow: 1;}#sk-container-id-1 div.sk-label:hover label.sk-toggleable__label {background-color: #d4ebff;}#sk-container-id-1 div.sk-serial::before {content: \"\";position: absolute;border-left: 1px solid gray;box-sizing: border-box;top: 0;bottom: 0;left: 50%;z-index: 0;}#sk-container-id-1 div.sk-serial {display: flex;flex-direction: column;align-items: center;background-color: white;padding-right: 0.2em;padding-left: 0.2em;position: relative;}#sk-container-id-1 div.sk-item {position: relative;z-index: 1;}#sk-container-id-1 div.sk-parallel {display: flex;align-items: stretch;justify-content: center;background-color: white;position: relative;}#sk-container-id-1 div.sk-item::before, #sk-container-id-1 div.sk-parallel-item::before {content: \"\";position: absolute;border-left: 1px solid gray;box-sizing: border-box;top: 0;bottom: 0;left: 50%;z-index: -1;}#sk-container-id-1 div.sk-parallel-item {display: flex;flex-direction: column;z-index: 1;position: relative;background-color: white;}#sk-container-id-1 div.sk-parallel-item:first-child::after {align-self: flex-end;width: 50%;}#sk-container-id-1 div.sk-parallel-item:last-child::after {align-self: flex-start;width: 50%;}#sk-container-id-1 div.sk-parallel-item:only-child::after {width: 0;}#sk-container-id-1 div.sk-dashed-wrapped {border: 1px dashed gray;margin: 0 0.4em 0.5em 0.4em;box-sizing: border-box;padding-bottom: 0.4em;background-color: white;}#sk-container-id-1 div.sk-label label {font-family: monospace;font-weight: bold;display: inline-block;line-height: 1.2em;}#sk-container-id-1 div.sk-label-container {text-align: center;}#sk-container-id-1 div.sk-container {/* jupyter's `normalize.less` sets `[hidden] { display: none; }` but bootstrap.min.css set `[hidden] { display: none !important; }` so we also need the `!important` here to be able to override the default hidden behavior on the sphinx rendered scikit-learn.org. See: https://github.com/scikit-learn/scikit-learn/issues/21755 */display: inline-block !important;position: relative;}#sk-container-id-1 div.sk-text-repr-fallback {display: none;}</style><div id=\"sk-container-id-1\" class=\"sk-top-container\"><div class=\"sk-text-repr-fallback\"><pre>LinearRegression()</pre><b>In a Jupyter environment, please rerun this cell to show the HTML representation or trust the notebook. <br />On GitHub, the HTML representation is unable to render, please try loading this page with nbviewer.org.</b></div><div class=\"sk-container\" hidden><div class=\"sk-item\"><div class=\"sk-estimator sk-toggleable\"><input class=\"sk-toggleable__control sk-hidden--visually\" id=\"sk-estimator-id-1\" type=\"checkbox\" checked><label for=\"sk-estimator-id-1\" class=\"sk-toggleable__label sk-toggleable__label-arrow\">LinearRegression</label><div class=\"sk-toggleable__content\"><pre>LinearRegression()</pre></div></div></div></div></div>"
      ],
      "text/plain": [
       "LinearRegression()"
      ]
     },
     "execution_count": 79,
     "metadata": {},
     "output_type": "execute_result"
    }
   ],
   "source": [
    "from sklearn.linear_model import LinearRegression\n",
    "regression = LinearRegression()\n",
    "regression.fit(X_train, y_train)"
   ]
  },
  {
   "cell_type": "code",
   "execution_count": 80,
   "id": "3e48109e",
   "metadata": {},
   "outputs": [],
   "source": [
    "# prediction\n",
    "y_test_pred = regression.predict(X_test)"
   ]
  },
  {
   "cell_type": "code",
   "execution_count": 81,
   "id": "47379d40",
   "metadata": {},
   "outputs": [
    {
     "data": {
      "text/plain": [
       "array([ 97.816922  ,  26.29237142,  41.68560066, ..., 410.21383984,\n",
       "       162.73261031, 126.14951344])"
      ]
     },
     "execution_count": 81,
     "metadata": {},
     "output_type": "execute_result"
    }
   ],
   "source": [
    "y_test_pred"
   ]
  },
  {
   "cell_type": "code",
   "execution_count": 82,
   "id": "5a36678e",
   "metadata": {},
   "outputs": [
    {
     "data": {
      "text/plain": [
       "0.8824662854600349"
      ]
     },
     "execution_count": 82,
     "metadata": {},
     "output_type": "execute_result"
    }
   ],
   "source": [
    "regression.score(X_test,y_test )"
   ]
  },
  {
   "cell_type": "code",
   "execution_count": 83,
   "id": "673c0f2d",
   "metadata": {},
   "outputs": [
    {
     "data": {
      "text/plain": [
       "<matplotlib.collections.PathCollection at 0x217c2ef2950>"
      ]
     },
     "execution_count": 83,
     "metadata": {},
     "output_type": "execute_result"
    },
    {
     "data": {
      "image/png": "[encoded data removed]",
      "text/plain": [
       "<Figure size 640x480 with 1 Axes>"
      ]
     },
     "metadata": {},
     "output_type": "display_data"
    }
   ],
   "source": [
    "# plot a scatterplot for the prediction\n",
    "plt.scatter(y_test, y_test_pred)"
   ]
  },
  {
   "cell_type": "code",
   "execution_count": 84,
   "id": "6418b3fc",
   "metadata": {},
   "outputs": [],
   "source": [
    "residuals = y_test - y_test_pred"
   ]
  },
  {
   "cell_type": "code",
   "execution_count": 85,
   "id": "a53c0a05",
   "metadata": {},
   "outputs": [
    {
     "data": {
      "text/plain": [
       "7829    -17.816922\n",
       "11447    19.707629\n",
       "2611     14.314399\n",
       "1734      6.242821\n",
       "1261      0.078215\n",
       "           ...    \n",
       "7960     10.383042\n",
       "2276    -29.128638\n",
       "7114     -7.213840\n",
       "11981   -12.732610\n",
       "13188   -15.149513\n",
       "Name: price, Length: 2537, dtype: float64"
      ]
     },
     "execution_count": 85,
     "metadata": {},
     "output_type": "execute_result"
    }
   ],
   "source": [
    "residuals"
   ]
  },
  {
   "cell_type": "code",
   "execution_count": 86,
   "id": "d4829a5c",
   "metadata": {},
   "outputs": [
    {
     "data": {
      "image/png": "[encoded data removed]",
      "text/plain": [
       "<Figure size 500x500 with 1 Axes>"
      ]
     },
     "metadata": {},
     "output_type": "display_data"
    }
   ],
   "source": [
    "# plot this residuals\n",
    "sns.displot(residuals, kind='kde')\n",
    "plt.xlabel('Residuals')\n",
    "plt.ylabel('Density')\n",
    "plt.title('Distribution of Residuals')\n",
    "plt.show()"
   ]
  },
  {
   "cell_type": "code",
   "execution_count": 87,
   "id": "87e071fc",
   "metadata": {},
   "outputs": [
    {
     "name": "stdout",
     "output_type": "stream",
     "text": [
      "22.807214728925057\n",
      "2383.7278453608415\n",
      "48.823435411294454\n"
     ]
    }
   ],
   "source": [
    "from sklearn.metrics import mean_squared_error\n",
    "from sklearn.metrics import mean_absolute_error\n",
    "\n",
    "print(mean_absolute_error(y_test, y_test_pred))\n",
    "print(mean_squared_error(y_test, y_test_pred))\n",
    "print(np.sqrt(mean_squared_error(y_test, y_test_pred)))"
   ]
  },
  {
   "cell_type": "markdown",
   "id": "e3bdadc9",
   "metadata": {},
   "source": [
    "# R square and adjusted R square\n",
    "R^2 = 1-SSR/SST\n",
    "\n",
    "R^2 = coefficient of determination SSR = sum of squares of residuals SST = total sum of squares"
   ]
  },
  {
   "cell_type": "code",
   "execution_count": 88,
   "id": "ba2ce027",
   "metadata": {},
   "outputs": [
    {
     "name": "stdout",
     "output_type": "stream",
     "text": [
      "0.8824662854600349\n"
     ]
    }
   ],
   "source": [
    "from sklearn.metrics import r2_score\n",
    "score = r2_score(y_test, y_test_pred)\n",
    "print(score)     \n",
    "\n",
    "# only 88% of the variance in the dependent variable can be explained by the independent variables in linear regression model"
   ]
  },
  {
   "cell_type": "markdown",
   "id": "aa337e39",
   "metadata": {},
   "source": [
    "# Adjusted R^2 = 1-[(1-R2)*(n-1)(n-k-1)]\n",
    "\n",
    "where:\n",
    "    \n",
    "R2 = the R2 of the model n : the number of observations K: the number of predictor variables"
   ]
  },
  {
   "cell_type": "code",
   "execution_count": 89,
   "id": "eb9ed31c",
   "metadata": {},
   "outputs": [
    {
     "data": {
      "text/plain": [
       "-297.18347685390825"
      ]
     },
     "execution_count": 89,
     "metadata": {},
     "output_type": "execute_result"
    }
   ],
   "source": [
    "# display adjusted R-squared\n",
    "1-(1-score)*len(y_test)-1/(len(y_test)-X_test.shape[1]-1)"
   ]
  },
  {
   "cell_type": "markdown",
   "id": "762735e5",
   "metadata": {},
   "source": [
    "# GridSearchCV to find best model"
   ]
  },
  {
   "cell_type": "code",
   "execution_count": 90,
   "id": "0224a4f2",
   "metadata": {},
   "outputs": [
    {
     "name": "stdout",
     "output_type": "stream",
     "text": [
      "Model: Linear Regression\n",
      "Mean Squared Error: 2383.7278453608415\n",
      "R2 Score: 0.8824662854600349\n",
      "\n",
      "Model: Random Forest\n",
      "Mean Squared Error: 301.7239638931682\n",
      "R2 Score: 0.9851229919929395\n",
      "\n",
      "Model: Gradient Boosting\n",
      "Mean Squared Error: 294.02646301737093\n",
      "R2 Score: 0.9855025302327465\n",
      "\n"
     ]
    }
   ],
   "source": [
    "from sklearn.ensemble import RandomForestRegressor, GradientBoostingRegressor\n",
    "from sklearn.svm import SVR\n",
    "from sklearn.model_selection import GridSearchCV\n",
    "\n",
    "# Define the models\n",
    "lr_model = LinearRegression()\n",
    "rf_model = RandomForestRegressor(random_state=42)\n",
    "gb_model = GradientBoostingRegressor(random_state=42)\n",
    "svm_model = SVR()\n",
    "\n",
    "# Create a dictionary of models\n",
    "models = {'Linear Regression': lr_model,\n",
    "          'Random Forest': rf_model,\n",
    "          'Gradient Boosting': gb_model,}\n",
    "\n",
    "# Perform GridSearchCV for each model\n",
    "for model_name, model in models.items():\n",
    "    grid_search = GridSearchCV(model, param_grid={}, cv=5, scoring='neg_mean_squared_error')\n",
    "    grid_search.fit(X_train, y_train)\n",
    "    best_model = grid_search.best_estimator_\n",
    "    y_pred = best_model.predict(X_test)\n",
    "    mse = mean_squared_error(y_test, y_pred)\n",
    "    r2 = r2_score(y_test, y_pred)\n",
    "    print(f\"Model: {model_name}\")\n",
    "    print(\"Mean Squared Error:\", mse)\n",
    "    print(\"R2 Score:\", r2)\n"
   ]
  },
  {
   "cell_type": "markdown",
   "id": "619016cc",
   "metadata": {},
   "source": [
    "So Random Forest and Gradient Boosting are our best models"
   ]
  }
 ],
 "metadata": {
  "kernelspec": {
   "display_name": "Python 3 (ipykernel)",
   "language": "python",
   "name": "python3"
  },
  "language_info": {
   "codemirror_mode": {
    "name": "ipython",
    "version": 3
   },
   "file_extension": ".py",
   "mimetype": "text/x-python",
   "name": "python",
   "nbconvert_exporter": "python",
   "pygments_lexer": "ipython3",
   "version": "3.10.9"
  }
 },
 "nbformat": 4,
 "nbformat_minor": 5
}
